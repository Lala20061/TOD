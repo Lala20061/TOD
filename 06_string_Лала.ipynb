{
 "cells": [
  {
   "cell_type": "markdown",
   "metadata": {},
   "source": [
    "# Работа со строковыми значениями"
   ]
  },
  {
   "cell_type": "markdown",
   "metadata": {},
   "source": [
    "__Автор задач: Блохин Н.В. (NVBlokhin@fa.ru)__\n",
    "\n",
    "Материалы:\n",
    "* Макрушин С.В. Лекция \"Работа со строковыми значениям\"\n",
    "* https://pyformat.info/\n",
    "* https://docs.python.org/3/library/re.html\n",
    "    * https://docs.python.org/3/library/re.html#flags\n",
    "    * https://docs.python.org/3/library/re.html#functions\n",
    "* https://pythonru.com/primery/primery-primeneniya-regulyarnyh-vyrazheniy-v-python\n",
    "* https://kanoki.org/2019/11/12/how-to-use-regex-in-pandas/\n",
    "* https://realpython.com/nltk-nlp-python/"
   ]
  },
  {
   "cell_type": "markdown",
   "metadata": {},
   "source": [
    "## Задачи для совместного разбора"
   ]
  },
  {
   "cell_type": "markdown",
   "metadata": {},
   "source": [
    "1. Вывести на экран данные из словаря `obj` построчно в виде `k = v`, задав формат таким образом, чтобы знак равенства оказался на одной и той же позиции во всех строках. Строковые литералы обернуть в кавычки."
   ]
  },
  {
   "cell_type": "code",
   "execution_count": 2,
   "metadata": {},
   "outputs": [
    {
     "name": "stdout",
     "output_type": "stream",
     "text": [
      "home_page = 'https://github.com/pypa/sampleproject'\n",
      "keywords = 'sample setuptools development'\n",
      "license = 'MIT'\n"
     ]
    }
   ],
   "source": [
    "obj = {\n",
    "    \"home_page\": \"https://github.com/pypa/sampleproject\",\n",
    "    \"keywords\": \"sample setuptools development\",\n",
    "    \"license\": \"MIT\",\n",
    "}\n",
    "for key, value in obj.items():\n",
    "    print(f\"{key} = '{value}'\")"
   ]
  },
  {
   "cell_type": "markdown",
   "metadata": {},
   "source": [
    "2. Написать регулярное выражение,которое позволит найти номера групп студентов."
   ]
  },
  {
   "cell_type": "code",
   "execution_count": 5,
   "metadata": {},
   "outputs": [
    {
     "name": "stdout",
     "output_type": "stream",
     "text": [
      "      0\n",
      "0  19-1\n",
      "1  20-4\n",
      "2  20-3\n"
     ]
    }
   ],
   "source": [
    "import pandas as pd\n",
    "obj = pd.Series([\"Евгения гр.ПМ19-1\", \"Илья пм 20-4\", \"Анна 20-3\"])\n",
    "num = obj.str.extract(r'(\\d{2}-\\d)')\n",
    "\n",
    "print(num)"
   ]
  },
  {
   "cell_type": "markdown",
   "metadata": {},
   "source": [
    "3. Разбейте текст формулировки задачи 2 на слова."
   ]
  },
  {
   "cell_type": "code",
   "execution_count": 11,
   "metadata": {},
   "outputs": [
    {
     "name": "stdout",
     "output_type": "stream",
     "text": [
      "['Написать', 'регулярное', 'выражение', 'которое', 'позволит', 'найти', 'номера', 'групп', 'студентов']\n"
     ]
    }
   ],
   "source": [
    "t= \"Написать регулярное выражение,которое позволит найти номера групп студентов.\"\n",
    "w = re.findall(r'\\b\\w+\\b', t)\n",
    "print(w)\n"
   ]
  },
  {
   "cell_type": "markdown",
   "metadata": {},
   "source": [
    "## Лабораторная работа 6"
   ]
  },
  {
   "cell_type": "markdown",
   "metadata": {},
   "source": [
    "### Форматирование строк"
   ]
  },
  {
   "cell_type": "markdown",
   "metadata": {},
   "source": [
    "1\\. Загрузите данные из файла `recipes_sample.csv` (__ЛР2__) в виде `pd.DataFrame` `recipes` При помощи форматирования строк выведите информацию об id рецепта и времени выполнения 5 случайных рецептов в виде таблицы следующего вида:\n",
    "\n",
    "    \n",
    "    |      id      |  minutes  |\n",
    "    |--------------------------|\n",
    "    |    61178     |    65     |\n",
    "    |    202352    |    80     |\n",
    "    |    364322    |    150    |\n",
    "    |    26177     |    20     |\n",
    "    |    224785    |    35     |\n",
    "    \n",
    "Обратите внимание, что ширина столбцов заранее неизвестна и должна рассчитываться динамически, в зависимости от тех данных, которые были выбраны. "
   ]
  },
  {
   "cell_type": "code",
   "execution_count": 18,
   "metadata": {},
   "outputs": [
    {
     "name": "stdout",
     "output_type": "stream",
     "text": [
      "| id           | minutes|\n",
      "|-----------------------|\n",
      "| 349186       | 10     |\n",
      "| 73429        | 28     |\n",
      "| 88402        | 65     |\n",
      "| 40911        | 50     |\n",
      "| 66782        | 15     |\n"
     ]
    }
   ],
   "source": [
    "recipes = pd.read_csv('recipes_sample.csv')\n",
    "#случайные 5 рецептов\n",
    "sel= recipes.sample(5)\n",
    "\n",
    "print(\"| id           | minutes|\")\n",
    "print(\"|-----------------------|\")\n",
    "#вывод id и min рецептов с форматированием\n",
    "for index, row in sel.iterrows():\n",
    "    id_str = f\"{row['id']:<12}\"\n",
    "    minutes_str = f\"{row['minutes']:<6}\"\n",
    "    print(f\"| {id_str} | {minutes_str} |\")"
   ]
  },
  {
   "cell_type": "markdown",
   "metadata": {},
   "source": [
    "2\\. Напишите функцию `show_info`, которая по данным о рецепте создает строку (в смысле объекта python) с описанием следующего вида:\n",
    "\n",
    "```\n",
    "\"Название Из Нескольких Слов\"\n",
    "\n",
    "1. Шаг 1\n",
    "2. Шаг 2\n",
    "----------\n",
    "Автор: contributor_id\n",
    "Среднее время приготовления: minutes минут\n",
    "```\n",
    "\n",
    "    \n",
    "Данные для создания строки получите из файлов `recipes_sample.csv` (__ЛР2__) и `steps_sample.xml` (__ЛР3__). \n",
    "Вызовите данную функцию для рецепта с id `170895` и выведите (через `print`) полученную строку на экран."
   ]
  },
  {
   "cell_type": "code",
   "execution_count": 19,
   "metadata": {},
   "outputs": [
    {
     "name": "stdout",
     "output_type": "stream",
     "text": [
      "george s at the cove black bean soup\n",
      "----------\n",
      "1. clean the leeks and discard the dark green portions\n",
      "2. cut the leeks lengthwise then into one-inch pieces\n",
      "3. melt the butter in a medium skillet , med\n",
      "----------\n",
      "Автор: 35193\n",
      "----------\n",
      "Среднее время приготовления: 90 минут\n"
     ]
    }
   ],
   "source": [
    "def show_info(name, steps, minutes, author_id):\n",
    "    # создаем строку из шагов рецепта, каждый шаг на новой строке и с номером\n",
    "    step_str = '\\n'.join([f'{i}. {step}' for i, step in enumerate(steps, 1)])\n",
    "    author_str = f'Автор: {author_id}'\n",
    "    minutes_str = f'Среднее время приготовления: {minutes} минут'\n",
    "    # создаем строку с описанием рецепта, соединяя все части\n",
    "    recipe_str = '\\n----------\\n'.join([name, step_str, author_str, minutes_str])\n",
    "    return recipe_str\n",
    "\n",
    "print(show_info(\n",
    "    name=\"george s at the cove black bean soup\",\n",
    "    steps=[\n",
    "        \"clean the leeks and discard the dark green portions\",\n",
    "        \"cut the leeks lengthwise then into one-inch pieces\",\n",
    "        \"melt the butter in a medium skillet , med\",\n",
    "    ],\n",
    "    minutes=90,\n",
    "    author_id=35193,\n",
    "))\n"
   ]
  },
  {
   "cell_type": "markdown",
   "metadata": {},
   "source": [
    "## Работа с регулярными выражениями"
   ]
  },
  {
   "cell_type": "markdown",
   "metadata": {},
   "source": [
    "3\\. Напишите регулярное выражение, которое ищет следующий паттерн в строке: число (1 цифра или более), затем пробел, затем слова: hour или hours или minute или minutes. Произведите поиск по данному регулярному выражению в каждом шаге рецепта с id 25082. Выведите на экран все непустые результаты, найденные по данному шаблону."
   ]
  },
  {
   "cell_type": "code",
   "execution_count": 106,
   "metadata": {
    "scrolled": true
   },
   "outputs": [
    {
     "name": "stdout",
     "output_type": "stream",
     "text": [
      "Число таких рецептов: 974\n"
     ]
    }
   ],
   "source": [
    "data = pd.read_csv('recipes_sample.csv')\n",
    "\n",
    "pattern = r'\\d+\\s*(hour|hours|minute|minutes)'\n",
    "\n",
    "count = 0\n",
    "# по строкам ищем по pattern\n",
    "for index, row in data.iterrows():\n",
    "    found_match = False\n",
    "    for col_name, col_value in row.items():\n",
    "        match = re.search(pattern, str(col_value))\n",
    "        if match:\n",
    "            found_match = True\n",
    "            break\n",
    "    if found_match:\n",
    "        count += 1\n",
    "\n",
    "print(f\"Число таких рецептов: {count}\")"
   ]
  },
  {
   "cell_type": "markdown",
   "metadata": {},
   "source": [
    "4\\. Напишите регулярное выражение, которое ищет шаблон вида \"this..., but\" _в начале строки_ . Между словом \"this\" и частью \", but\" может находиться произвольное число букв, цифр, знаков подчеркивания и пробелов. Никаких других символов вместо многоточия быть не может. Пробел между запятой и словом \"but\" может присутствовать или отсутствовать.\n",
    "\n",
    "Используя строковые методы `pd.Series`, выясните, для каких рецептов данный шаблон содержится в тексте описания. Выведите на экран количество таких рецептов и 3 примера подходящих описаний (текст описания должен быть виден на экране полностью)."
   ]
  },
  {
   "cell_type": "code",
   "execution_count": 45,
   "metadata": {},
   "outputs": [
    {
     "name": "stdout",
     "output_type": "stream",
     "text": [
      "this makes a lot...but...\"one for the potluck and one for home\" is what dh loves! he hates it when we take dishes to gatherings and there's none left!! so, you can put this all into one pot, or divide it into two.\n",
      "this dessert dish sounds a little strange...but it is oh so good. you can make your own scratch pudding and/or frosting, but this is the short-cut version. cook time is actually chill time.\n"
     ]
    }
   ],
   "source": [
    "import pandas as pd\n",
    "\n",
    "data = pd.read_csv('recipes_sample.csv')\n",
    "\n",
    "pattern = r'^this[^\\.,]*\\.{3,},?\\s?but'\n",
    "# поиск совпадений по описанию рецепта\n",
    "matches = data['description'].str.contains(pattern).fillna(False)\n",
    "\n",
    "# выводим первые 3\n",
    "examples = data[matches]['description'].head(3)\n",
    "for example in examples:\n",
    "    print(example)"
   ]
  },
  {
   "cell_type": "markdown",
   "metadata": {},
   "source": [
    "5\\. В текстах шагов рецептов обыкновенные дроби имеют вид \"a / b\". Используя регулярные выражения, уберите в тексте шагов рецепта с id 72367 пробелы до и после символа дроби. Выведите на экран шаги этого рецепта после их изменения."
   ]
  },
  {
   "cell_type": "code",
   "execution_count": 116,
   "metadata": {},
   "outputs": [
    {
     "name": "stdout",
     "output_type": "stream",
     "text": [
      "from the gazette 01/06/1991  i adopted this recipe on 6/19/06.\r\n",
      "\r\n",
      "poor misunderstood tofu.\n"
     ]
    }
   ],
   "source": [
    "data = pd.read_csv('recipes_sample.csv')\n",
    "# получение названия рецепта с id=72367\n",
    "recipe = data[data['id'] == 7369]['description'].iloc[0]\n",
    "# замена пробелов вида \" / \" на \"/\"\n",
    "updated_recipe = re.sub(r'\\s/\\s', '/', recipe)\n",
    "\n",
    "print(updated_recipe)"
   ]
  },
  {
   "cell_type": "markdown",
   "metadata": {},
   "source": [
    "### Сегментация текста"
   ]
  },
  {
   "cell_type": "markdown",
   "metadata": {},
   "source": [
    "6\\. Разбейте тексты шагов рецептов на слова при помощи пакета `nltk`. Посчитайте и выведите на экран кол-во уникальных слов среди всех рецептов. Словом называется любая последовательность алфавитных символов (для проверки можно воспользоваться `str.isalpha`). При подсчете количества уникальных слов не учитывайте регистр."
   ]
  },
  {
   "cell_type": "code",
   "execution_count": 65,
   "metadata": {},
   "outputs": [
    {
     "name": "stdout",
     "output_type": "stream",
     "text": [
      "9512\n"
     ]
    }
   ],
   "source": [
    "import nltk\n",
    "from nltk.tokenize import word_tokenize\n",
    "import pandas as pd\n",
    "\n",
    "data = pd.read_csv('recipes_sample.csv')\n",
    "\n",
    "# объединение всех текстов рецептов в одну строку\n",
    "all_text = ' '.join(data[\"name\"])\n",
    "\n",
    "tokens = word_tokenize(all_text)\n",
    "\n",
    "# приведение всех слов к нижнему регистру \n",
    "words = [word.lower() for word in tokens if word.isalpha()]\n",
    "\n",
    "# подсчет количества уникальных слов\n",
    "unique_words = set(words)\n",
    "print(len(unique_words))"
   ]
  },
  {
   "cell_type": "markdown",
   "metadata": {},
   "source": [
    "7\\. Разбейте описания рецептов из `recipes` на предложения при помощи пакета `nltk`. Найдите 5 самых длинных описаний (по количеству _предложений_) рецептов в датасете и выведите строки фрейма, соответствующие этим рецептами, в порядке убывания длины."
   ]
  },
  {
   "cell_type": "code",
   "execution_count": 68,
   "metadata": {},
   "outputs": [
    {
     "name": "stdout",
     "output_type": "stream",
     "text": [
      "                                                    name  \\\n",
      "18408       my favorite buttercream icing for decorating   \n",
      "481    alligator claws  avocado fritters  with chipot...   \n",
      "22566                          rich barley mushroom soup   \n",
      "6779                                       chocolate tea   \n",
      "16296  little bunny foo foo cake  carrot cake  with c...   \n",
      "\n",
      "                                             description  \n",
      "18408  this wonderful icing is used for icing cakes a...  \n",
      "481    a translucent golden-brown crust allows the gr...  \n",
      "22566  this is one of the best soups i've ever made a...  \n",
      "6779   i wrote this because there are an astounding l...  \n",
      "16296  the first time i made this cake i grated a mil...  \n"
     ]
    }
   ],
   "source": [
    "import pandas as pd\n",
    "import nltk\n",
    "\n",
    "# загрузка данных\n",
    "data = pd.read_csv('recipes_sample.csv')\n",
    "\n",
    "# разбиение рецептов на предложения\n",
    "data['sent'] = data['description'].apply(lambda x: nltk.sent_tokenize(str(x)) if isinstance(x, str) else [])\n",
    "\n",
    "# 5 самых длинных описаний \n",
    "data['num'] = data['sent'].apply(lambda x: len(x))\n",
    "long = data.nlargest(5, 'num')\n",
    "\n",
    "print(long[['name', 'description']])"
   ]
  },
  {
   "cell_type": "markdown",
   "metadata": {},
   "source": [
    "8\\. Напишите функцию, которая для заданного предложения выводит информацию о частях речи слов, входящих в предложение, в следующем виде:\n",
    "```\n",
    "PRP   VBD   DT      NNS     CC   VBD      NNS        RB   \n",
    " I  omitted the raspberries and added strawberries instead\n",
    "``` \n",
    "Для определения части речи слова можно воспользоваться `nltk.pos_tag`.\n",
    "\n",
    "Проверьте работоспособность функции на названии рецепта с id 241106.\n",
    "\n",
    "Обратите внимание, что часть речи должна находиться ровно посередине над соотвествующим словом, а между самими словами должен быть ровно один пробел.\n"
   ]
  },
  {
   "cell_type": "code",
   "execution_count": 114,
   "metadata": {},
   "outputs": [
    {
     "name": "stdout",
     "output_type": "stream",
     "text": [
      "eggplant JJ steaks NNS with IN chickpeas NNS feta VBP cheese JJ and CC black JJ olives NNS\n"
     ]
    }
   ],
   "source": [
    "\n",
    "import nltk\n",
    "import pandas as pd\n",
    "\n",
    "def get_pos_tags(sentence):\n",
    "    tokens = nltk.word_tokenize(sentence)\n",
    "    pos_tags = nltk.pos_tag(tokens)\n",
    "    output = ''\n",
    "    for word, tag in pos_tags:\n",
    "        output += f'{word} {tag} '\n",
    "    return output.strip()\n",
    "\n",
    "# Загрузка данных\n",
    "data = pd.read_csv('recipes_sample.csv')\n",
    "\n",
    "# Получение названия рецепта с id 241106\n",
    "recipe_name = data[data['id'] == 241106]['name'].values[0]\n",
    "\n",
    "# Вывод информации о частях речи\n",
    "print(get_pos_tags(recipe_name))\n",
    "\n",
    "\n",
    "\n"
   ]
  },
  {
   "cell_type": "code",
   "execution_count": null,
   "metadata": {},
   "outputs": [],
   "source": []
  }
 ],
 "metadata": {
  "kernelspec": {
   "display_name": "Python 3 (ipykernel)",
   "language": "python",
   "name": "python3"
  },
  "language_info": {
   "codemirror_mode": {
    "name": "ipython",
    "version": 3
   },
   "file_extension": ".py",
   "mimetype": "text/x-python",
   "name": "python",
   "nbconvert_exporter": "python",
   "pygments_lexer": "ipython3",
   "version": "3.11.5"
  }
 },
 "nbformat": 4,
 "nbformat_minor": 4
}
