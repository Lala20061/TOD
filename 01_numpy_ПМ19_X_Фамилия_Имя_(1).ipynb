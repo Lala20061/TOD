{
  "cells": [
    {
      "cell_type": "markdown",
      "metadata": {
        "id": "zcmsj1CVuMvr"
      },
      "source": [
        "# Numpy"
      ]
    },
    {
      "cell_type": "markdown",
      "metadata": {
        "id": "PpiSSdgtuMvz"
      },
      "source": [
        "Материалы:\n",
        "* Макрушин С.В. \"Лекция 1: Библиотека Numpy\"\n",
        "* https://numpy.org/doc/stable/user/index.html\n",
        "* https://numpy.org/doc/stable/reference/index.html"
      ]
    },
    {
      "cell_type": "markdown",
      "metadata": {
        "id": "hGAEp9xvuMv0"
      },
      "source": [
        "## Задачи для совместного разбора"
      ]
    },
    {
      "cell_type": "markdown",
      "metadata": {
        "id": "c9dSSyVAuMv1"
      },
      "source": [
        "1. Сгенерировать двухмерный массив `arr` размерности (4, 7), состоящий из случайных действительных чисел, равномерно распределенных в диапазоне от 0 до 20. Нормализовать значения массива с помощью преобразования вида  $𝑎𝑥+𝑏$  так, что после нормализации максимальный элемент масcива будет равен 1.0, минимальный 0.0"
      ]
    },
    {
      "cell_type": "code",
      "execution_count": null,
      "metadata": {
        "colab": {
          "base_uri": "https://localhost:8080/"
        },
        "id": "GGw8qAFJuMv2",
        "outputId": "546a0674-4518-4270-dd0c-28f8dae0cb0e"
      },
      "outputs": [
        {
          "name": "stdout",
          "output_type": "stream",
          "text": [
            "[[0.27319881 0.06079039 0.15983089 0.73028661 0.02531085 0.91803791\n",
            "  0.51769891]\n",
            " [0.1780848  0.27152075 0.02506612 0.56283308 0.70524412 0.13665128\n",
            "  0.8695777 ]\n",
            " [0.79823743 0.2866978  0.8170698  0.79591592 0.59002612 0.35621784\n",
            "  0.37757069]\n",
            " [0.01913157 0.         0.29838797 0.062254   0.07301974 1.\n",
            "  0.26877008]]\n"
          ]
        }
      ],
      "source": [
        "import numpy as np\n",
        "# Сгенерировать двумерного массива размерности (4, 7) со случайными числами от 0 до 20\n",
        "arr=np.random.uniform(0, 20, (4, 7))\n",
        "\n",
        "# Находим минимальное и максимальное значение в массиве\n",
        "min_v=np.min(arr)\n",
        "max_v=np.max(arr)\n",
        "\n",
        "# Вычисляем коэффициенты a и b для преобразования ax+b\n",
        "a=1 / (max_v - min_v)\n",
        "b=-a * min_v\n",
        "\n",
        "# Нормализация значений массива\n",
        "normal=a*arr + b\n",
        "\n",
        "print(normal)"
      ]
    },
    {
      "cell_type": "markdown",
      "metadata": {
        "id": "ju8FID_MuMv3"
      },
      "source": [
        "2. Создать матрицу 8 на 10 из случайных целых (используя модуль `numpy.random`) чисел из диапозона от 0 до 10 и найти в ней строку (ее индекс и вывести саму строку), в которой сумма значений минимальна."
      ]
    },
    {
      "cell_type": "code",
      "execution_count": null,
      "metadata": {
        "colab": {
          "base_uri": "https://localhost:8080/"
        },
        "id": "IPTW0yj72oIP",
        "outputId": "e9250d1a-9ae2-4cd1-9b82-da2cf3adcfa8"
      },
      "outputs": [
        {
          "name": "stdout",
          "output_type": "stream",
          "text": [
            "[[10  8  6  3  6  6  4  1 10  4]\n",
            " [ 7  0  9  6  5  0  3  2  4  0]\n",
            " [ 1  9  1  4  7 10  1  9  4  9]\n",
            " [ 1  6  2  5  2  4  2  3  3 10]\n",
            " [ 6  1  2  2 10  8  2 10  1  2]\n",
            " [ 1  3  2  1  2 10  1  6  4  3]\n",
            " [ 6  8  2  3  2  3  8  2  7  8]\n",
            " [ 7  0  8  4  1  4  7  0  8  0]]\n",
            "Строка с минимальной суммой значений:\n",
            "[ 1  3  2  1  2 10  1  6  4  3]\n",
            "Индекс строки: 5\n"
          ]
        }
      ],
      "source": [
        "import numpy as np\n",
        "matrix = np.random.randint(0, 11, (8, 10))\n",
        "print(matrix)\n",
        "\n",
        "# Нахождение строки с минимальной суммой значений\n",
        "row_sums = np.sum(matrix, axis=1)\n",
        "min_sum_row_index = np.argmin(row_sums)\n",
        "min_sum_row = matrix[min_sum_row_index]\n",
        "\n",
        "print(\"Строка с минимальной суммой значений:\")\n",
        "print(min_sum_row)\n",
        "print(\"Индекс строки:\", min_sum_row_index)"
      ]
    },
    {
      "cell_type": "markdown",
      "metadata": {
        "id": "RIQNyok2uMv4"
      },
      "source": [
        "3. Найти евклидово расстояние между двумя одномерными векторами одинаковой размерности."
      ]
    },
    {
      "cell_type": "code",
      "execution_count": null,
      "metadata": {
        "colab": {
          "base_uri": "https://localhost:8080/"
        },
        "id": "E7Be24_ImS1O",
        "outputId": "3ad52e5c-28bb-4191-b032-77f477b7ce60"
      },
      "outputs": [
        {
          "name": "stdout",
          "output_type": "stream",
          "text": [
            "5.196152422706632\n"
          ]
        }
      ],
      "source": [
        "import numpy as np\n",
        "\n",
        "def euclidean_distance(vector1, vector2):\n",
        "    return np.linalg.norm(vector1 - vector2)\n",
        "\n",
        "# Пример\n",
        "vector1 = np.array([1, 2, 3])\n",
        "vector2 = np.array([4, 5, 6])\n",
        "\n",
        "distance = euclidean_distance(vector1, vector2)\n",
        "print(distance)"
      ]
    },
    {
      "cell_type": "markdown",
      "metadata": {
        "id": "he8KmSobuMv4"
      },
      "source": [
        "4. Решить матричное уравнение `A*X*B=-C` - найти матрицу `X`. Где `A = [[-1, 2, 4], [-3, 1, 2], [-3, 0, 1]]`, `B=[[3, -1], [2, 1]]`, `C=[[7, 21], [11, 8], [8, 4]]`."
      ]
    },
    {
      "cell_type": "code",
      "execution_count": null,
      "metadata": {
        "colab": {
          "base_uri": "https://localhost:8080/"
        },
        "id": "YT4bl215mtb8",
        "outputId": "07bb7996-4f46-4021-e7e3-e35f50fc0544"
      },
      "outputs": [
        {
          "name": "stdout",
          "output_type": "stream",
          "text": [
            "[[  7.  -4.]\n",
            " [ -6.   7.]\n",
            " [-11.  -8.]]\n"
          ]
        }
      ],
      "source": [
        "import numpy as np\n",
        "\n",
        "A = np.array([[-1, 2, 4], [-3, 1, 2], [-3, 0, 1]])\n",
        "B = np.array([[3, -1], [2, 1]])\n",
        "C = np.array([[7, 21], [11, 8], [8, 4]])\n",
        "\n",
        "X = np.linalg.solve(A, -np.dot(C, B))\n",
        "print(X)"
      ]
    },
    {
      "cell_type": "markdown",
      "metadata": {
        "id": "bX0sBwMIuMv5"
      },
      "source": [
        "## Лабораторная работа №1"
      ]
    },
    {
      "cell_type": "markdown",
      "metadata": {
        "id": "Rc4m8h0luMv5"
      },
      "source": [
        "Замечание: при решении данных задач не подразумевается использования циклов или генераторов Python, если в задании не сказано обратного. Решение должно опираться на использования функционала библиотеки `numpy`."
      ]
    },
    {
      "cell_type": "markdown",
      "metadata": {
        "id": "atMq9pLsuMv6"
      },
      "source": [
        "1. Файл `minutes_n_ingredients.csv` содержит информацию об идентификаторе рецепта, времени его выполнения в минутах и количестве необходимых ингредиентов. Считайте данные из этого файла в виде массива `numpy` типа `int32`, используя `np.loadtxt`. Выведите на экран первые 5 строк массива."
      ]
    },
    {
      "cell_type": "code",
      "execution_count": 3,
      "metadata": {
        "colab": {
          "base_uri": "https://localhost:8080/"
        },
        "id": "juF_0Za_uPf3",
        "outputId": "1c4d67b7-120f-47b2-e465-d1cf739e7f13"
      },
      "outputs": [
        {
          "output_type": "stream",
          "name": "stdout",
          "text": [
            "Mounted at /content/drive\n",
            "[[127244     60     16]\n",
            " [ 23891     25      7]\n",
            " [ 94746     10      6]\n",
            " [ 67660      5      6]\n",
            " [157911     60     14]]\n"
          ]
        }
      ],
      "source": [
        "from google.colab import drive\n",
        "import numpy as np\n",
        "\n",
        "drive.mount('/content/drive')\n",
        "data_path = \"/content/drive/My Drive/Colab Notebooks/\"\n",
        "\n",
        "data = np.loadtxt(data_path + 'minutes_n_ingredients.csv',delimiter=',', dtype=np.int32, skiprows=1)\n",
        "print(data[:5])\n"
      ]
    },
    {
      "cell_type": "markdown",
      "metadata": {
        "id": "X8VOrNtcuMv6"
      },
      "source": [
        "2. Вычислите среднее значение, минимум, максимум и медиану по каждому из столбцов, кроме первого."
      ]
    },
    {
      "cell_type": "code",
      "execution_count": null,
      "metadata": {
        "colab": {
          "base_uri": "https://localhost:8080/"
        },
        "id": "20oG3DtVzJj9",
        "outputId": "8c623e07-f918-4045-9b29-573d43042b6a"
      },
      "outputs": [
        {
          "name": "stdout",
          "output_type": "stream",
          "text": [
            "среднее значение: [2.16010017e+04 9.05528000e+00]\n",
            "минимум: [0 1]\n",
            "максимум: [2147483647         39]\n",
            "медиану: [40.  9.]\n"
          ]
        }
      ],
      "source": [
        "mean = np.mean(data[:, 1:], axis=0)\n",
        "minimum = np.min(data[:, 1:], axis=0)\n",
        "maximum = np.max(data[:, 1:], axis=0)\n",
        "median = np.median(data[:, 1:], axis=0)\n",
        "\n",
        "print(\"среднее значение:\", mean)\n",
        "print(\"минимум:\", minimum)\n",
        "print(\"максимум:\", maximum)\n",
        "print(\"медиану:\", median)"
      ]
    },
    {
      "cell_type": "markdown",
      "metadata": {
        "id": "LeMAin3RuMv6"
      },
      "source": [
        "3. Ограничьте сверху значения продолжительности выполнения рецепта значением квантиля $q_{0.75}$."
      ]
    },
    {
      "cell_type": "code",
      "execution_count": null,
      "metadata": {
        "colab": {
          "base_uri": "https://localhost:8080/"
        },
        "id": "ZbxSTVjR0ZCC",
        "outputId": "4b3bd1fc-6d7a-4df9-f1c5-915201ddd795"
      },
      "outputs": [
        {
          "name": "stdout",
          "output_type": "stream",
          "text": [
            "[[60 16]\n",
            " [25  7]\n",
            " [10  6]\n",
            " ...\n",
            " [65 15]\n",
            " [ 5  4]\n",
            " [65 65]]\n"
          ]
        }
      ],
      "source": [
        "data = np.loadtxt(data_path + 'minutes_n_ingredients.csv',delimiter=',', dtype=np.int32, skiprows=1,usecols=(1, 2))\n",
        "q75 = np.quantile(data[:, 0], q=0.75)\n",
        "data[data[:, 0] > q75] = q75\n",
        "print(data)"
      ]
    },
    {
      "cell_type": "markdown",
      "metadata": {
        "id": "jPWuFUgCuMv6"
      },
      "source": [
        "4. Посчитайте, для скольких рецептов указана продолжительность, равная нулю. Замените для таких строк значение в данном столбце на 1."
      ]
    },
    {
      "cell_type": "code",
      "execution_count": null,
      "metadata": {
        "colab": {
          "base_uri": "https://localhost:8080/"
        },
        "id": "LqxQvR0a1ruM",
        "outputId": "c1ce102f-1b85-4cd1-b686-235fea440783"
      },
      "outputs": [
        {
          "name": "stdout",
          "output_type": "stream",
          "text": [
            "479\n"
          ]
        }
      ],
      "source": [
        "\n",
        "data = np.loadtxt(data_path + 'minutes_n_ingredients.csv',delimiter=',', dtype=np.int32, skiprows=1,usecols=(1, 2))\n",
        "num_with_0 = np.count_nonzero(data == 0)\n",
        "data[data == 0] = 1\n",
        "print(num_with_0)"
      ]
    },
    {
      "cell_type": "markdown",
      "metadata": {
        "id": "zRVuMQsIuMv7"
      },
      "source": [
        "5. Посчитайте, сколько уникальных рецептов находится в датасете."
      ]
    },
    {
      "cell_type": "code",
      "execution_count": null,
      "metadata": {
        "colab": {
          "base_uri": "https://localhost:8080/"
        },
        "id": "UCXgaAQi_fEP",
        "outputId": "0d634afb-88eb-4d06-9ddf-572b1070f902"
      },
      "outputs": [
        {
          "name": "stdout",
          "output_type": "stream",
          "text": [
            "100000\n"
          ]
        }
      ],
      "source": [
        "data = np.loadtxt(data_path + 'minutes_n_ingredients.csv',delimiter=',', dtype=np.int32, skiprows=1,usecols=(0,1, 2))\n",
        "u_recipes = np.unique(data[:, 0])\n",
        "print(len(u_recipes))\n"
      ]
    },
    {
      "cell_type": "markdown",
      "metadata": {
        "id": "zlFy9H-WuMv7"
      },
      "source": [
        "6. Сколько и каких различных значений кол-ва ингредиентов присутвует в рецептах из датасета?"
      ]
    },
    {
      "cell_type": "code",
      "execution_count": null,
      "metadata": {
        "colab": {
          "base_uri": "https://localhost:8080/"
        },
        "id": "nfu_mzmHAJkc",
        "outputId": "7a55b666-85b4-4b41-b62e-314861d3e98c"
      },
      "outputs": [
        {
          "name": "stdout",
          "output_type": "stream",
          "text": [
            "[         0          1          2          3          4          5\n",
            "          6          7          8          9         10         11\n",
            "         12         13         14         15         16         17\n",
            "         18         19         20         21         22         23\n",
            "         24         25         26         27         28         29\n",
            "         30         31         32         33         34         35\n",
            "         36         37         38         39         40         41\n",
            "         42         43         44         45         46         47\n",
            "         48         49         50         51         52         53\n",
            "         54         55         56         57         58         59\n",
            "         60         61         62         63         64         65\n",
            "         66         67         68         69         70         71\n",
            "         72         73         74         75         76         77\n",
            "         78         79         80         81         82         83\n",
            "         84         85         86         87         88         89\n",
            "         90         91         92         93         94         95\n",
            "         96         97         98         99        100        101\n",
            "        102        103        104        105        106        107\n",
            "        108        109        110        111        112        114\n",
            "        115        116        117        118        120        121\n",
            "        122        123        124        125        126        127\n",
            "        128        129        130        132        134        135\n",
            "        136        137        138        140        141        142\n",
            "        143        144        145        147        149        150\n",
            "        151        152        153        154        155        156\n",
            "        157        158        159        160        161        162\n",
            "        164        165        166        168        170        171\n",
            "        172        173        174        175        176        177\n",
            "        178        180        181        182        183        184\n",
            "        185        186        187        188        189        190\n",
            "        192        193        195        196        197        200\n",
            "        201        204        205        206        209        210\n",
            "        212        213        214        215        217        218\n",
            "        220        221        222        223        225        228\n",
            "        230        235        240        241        242        243\n",
            "        245        246        247        248        250        252\n",
            "        254        255        256        257        258        260\n",
            "        265        270        272        275        277        278\n",
            "        280        284        285        289        290        295\n",
            "        300        301        302        303        304        305\n",
            "        306        307        308        310        312        314\n",
            "        315        318        319        320        321        325\n",
            "        330        335        340        345        350        360\n",
            "        362        363        365        366        367        368\n",
            "        369        370        372        375        376        380\n",
            "        381        382        385        390        394        395\n",
            "        400        405        410        415        420        421\n",
            "        425        430        432        435        440        445\n",
            "        450        455        460        465        470        475\n",
            "        480        481        482        483        484        485\n",
            "        486        487        488        490        492        494\n",
            "        495        497        500        505        507        510\n",
            "        512        515        516        520        524        525\n",
            "        526        530        535        538        540        541\n",
            "        545        550        555        560        565        570\n",
            "        576        580        585        590        600        602\n",
            "        603        605        607        608        610        612\n",
            "        615        620        625        630        635        640\n",
            "        645        648        650        660        665        670\n",
            "        675        680        690        693        705        710\n",
            "        720        722        725        728        729        730\n",
            "        735        740        745        750        755        760\n",
            "        765        770        775        780        785        790\n",
            "        795        800        805        810        825        830\n",
            "        834        840        843        848        850        855\n",
            "        856        860        870        885        900        902\n",
            "        915        920        930        940        945        960\n",
            "        964        970        975        980        990       1020\n",
            "       1030       1040       1080       1090       1095       1105\n",
            "       1110       1125       1140       1160       1170       1200\n",
            "       1210       1215       1220       1230       1235       1245\n",
            "       1260       1272       1280       1290       1330       1425\n",
            "       1440       1441       1442       1443       1444       1445\n",
            "       1447       1448       1449       1450       1452       1454\n",
            "       1455       1456       1460       1462       1465       1470\n",
            "       1475       1480       1485       1490       1495       1500\n",
            "       1504       1505       1510       1515       1520       1525\n",
            "       1530       1535       1540       1545       1550       1560\n",
            "       1562       1575       1580       1590       1595       1620\n",
            "       1680       1685       1695       1725       1740       1770\n",
            "       1800       1810       1815       1820       1830       1850\n",
            "       1860       1865       1875       1890       1920       1935\n",
            "       1980       2040       2160       2165       2190       2220\n",
            "       2295       2340       2400       2410       2415       2430\n",
            "       2490       2640       2880       2881       2885       2887\n",
            "       2890       2892       2895       2900       2905       2910\n",
            "       2920       2925       2930       2940       2950       2955\n",
            "       2970       3000       3030       3035       3060       3070\n",
            "       3120       3180       3240       3360       3390       3610\n",
            "       3615       4080       4215       4320       4321       4325\n",
            "       4330       4335       4340       4345       4350       4355\n",
            "       4365       4380       4385       4415       4440       4500\n",
            "       4545       4560       4590       4620       4920       5040\n",
            "       5350       5760       5765       5770       5775       5780\n",
            "       5790       5820       5850       5880       7200       7205\n",
            "       7210       7215       7220       7225       7230       7440\n",
            "       8640       8650       8655       8675       8760       9015\n",
            "       9120       9740      10080      10082      10085      10090\n",
            "      10095      10100      10105      10110      10140      10320\n",
            "      10440      11520      11521      11550      11565      14405\n",
            "      14420      14425      14430      14450      14460      15880\n",
            "      15900      17310      18720      18725      20160      20161\n",
            "      20163      20165      20170      20175      20190      20280\n",
            "      20340      21600      21690      23050      26100      28810\n",
            "      30240      30255      30270      34570      36015      40325\n",
            "      41775      43200      43202      43205      43230      43250\n",
            "      43380      44645      44655      50405      60540      60555\n",
            "      64815      69120      86400      86405     115230     129615\n",
            "     129620     132495     146880     201610     216015     259205\n",
            "     259260 2147483647]\n",
            "656\n"
          ]
        }
      ],
      "source": [
        "data = np.loadtxt(data_path + 'minutes_n_ingredients.csv',delimiter=',', dtype=np.int32, skiprows=1,usecols=(0,1,2))\n",
        "u_ingredients = np.unique(data[:, 1])\n",
        "print(u_ingredients)\n",
        "print(len(u_ingredients))"
      ]
    },
    {
      "cell_type": "markdown",
      "metadata": {
        "id": "7HtifQRjuMv7"
      },
      "source": [
        "7. Создайте версию массива, содержащую информацию только о рецептах, состоящих не более чем из 5 ингредиентов."
      ]
    },
    {
      "cell_type": "code",
      "execution_count": null,
      "metadata": {
        "colab": {
          "base_uri": "https://localhost:8080/"
        },
        "id": "vPdKo_dbBGTt",
        "outputId": "fb055b2f-66a6-47d1-dd66-bedd2280f6c8"
      },
      "outputs": [
        {
          "name": "stdout",
          "output_type": "stream",
          "text": [
            "[[446597     15      5]\n",
            " [204134      5      3]\n",
            " [ 25623      6      4]\n",
            " ...\n",
            " [ 52088     60      5]\n",
            " [128811     15      4]\n",
            " [370915      5      4]]\n"
          ]
        }
      ],
      "source": [
        "data = np.loadtxt(data_path + 'minutes_n_ingredients.csv',delimiter=',', dtype=np.int32, skiprows=1,usecols=(0,1,2))\n",
        "f_data = data[data[:, 2] <= 5]\n",
        "print(f_data)"
      ]
    },
    {
      "cell_type": "markdown",
      "metadata": {
        "id": "cV1bSCOiuMv7"
      },
      "source": [
        "8. Для каждого рецепта посчитайте, сколько в среднем ингредиентов приходится на одну минуту рецепта. Найдите максимальное значение этой величины для всего датасета"
      ]
    },
    {
      "cell_type": "code",
      "execution_count": null,
      "metadata": {
        "colab": {
          "base_uri": "https://localhost:8080/"
        },
        "id": "uPKYeCyVBtgE",
        "outputId": "5f5fec24-360a-4087-b1c9-3ceaa555beb2"
      },
      "outputs": [
        {
          "name": "stdout",
          "output_type": "stream",
          "text": [
            "inf\n"
          ]
        },
        {
          "name": "stderr",
          "output_type": "stream",
          "text": [
            "<ipython-input-12-f4e121d3bbbc>:2: RuntimeWarning: divide by zero encountered in divide\n",
            "  max_data=max(data[:,2]/data[:,1])\n"
          ]
        }
      ],
      "source": [
        "data = np.loadtxt(data_path + 'minutes_n_ingredients.csv',delimiter=',', dtype=np.int32, skiprows=1)\n",
        "max_data=max(data[:,2]/data[:,1])\n",
        "print(max_data)"
      ]
    },
    {
      "cell_type": "markdown",
      "metadata": {
        "id": "YJ8_EUHEuMv7"
      },
      "source": [
        "9. Вычислите среднее количество ингредиентов для топ-100 рецептов с наибольшей продолжительностью"
      ]
    },
    {
      "cell_type": "code",
      "execution_count": null,
      "metadata": {
        "colab": {
          "base_uri": "https://localhost:8080/"
        },
        "id": "RdHhC3GhD4ob",
        "outputId": "b18c94b5-0405-41fb-f2e5-bc069df4db80"
      },
      "outputs": [
        {
          "name": "stdout",
          "output_type": "stream",
          "text": [
            "156.62\n"
          ]
        }
      ],
      "source": [
        "data = np.loadtxt(data_path + 'minutes_n_ingredients.csv',delimiter=',', dtype=np.int32, skiprows=1,usecols=(0,1,2))\n",
        "topchik = np.argpartition(data[:, 0], -100)[-100:]\n",
        "top = data[topchik, 1]\n",
        "sr_data=np.mean(top)\n",
        "print(sr_data)\n"
      ]
    },
    {
      "cell_type": "markdown",
      "metadata": {
        "id": "rk5dhYEEuMv7"
      },
      "source": [
        "10. Выберите случайным образом и выведите информацию о 10 различных рецептах"
      ]
    },
    {
      "cell_type": "code",
      "execution_count": null,
      "metadata": {
        "colab": {
          "base_uri": "https://localhost:8080/"
        },
        "id": "jN6YAx0THf6o",
        "outputId": "bd7241d8-048f-4c66-ead0-80a2ae89f695"
      },
      "outputs": [
        {
          "data": {
            "text/plain": [
              "array([[457968,     65,     14],\n",
              "       [366847,    130,     11],\n",
              "       [304244,      5,      7],\n",
              "       [112617,     45,      6],\n",
              "       [217315,     60,      2],\n",
              "       [ 31652,     60,      8],\n",
              "       [402174,    105,     14],\n",
              "       [329474,     35,     18],\n",
              "       [129166,    100,      4],\n",
              "       [367708,     15,      8]], dtype=int32)"
            ]
          },
          "execution_count": 14,
          "metadata": {},
          "output_type": "execute_result"
        }
      ],
      "source": [
        "\n",
        "data = np.loadtxt(data_path + 'minutes_n_ingredients.csv',delimiter=',', dtype=np.int32, skiprows=1,usecols=(0,1,2))\n",
        "idx=np.random.randint(data.shape[0],size=10)\n",
        "data[idx,:]"
      ]
    },
    {
      "cell_type": "markdown",
      "metadata": {
        "id": "iddwDcU0uMv7"
      },
      "source": [
        "11. Выведите процент рецептов, кол-во ингредиентов в которых меньше среднего."
      ]
    },
    {
      "cell_type": "code",
      "execution_count": null,
      "metadata": {
        "colab": {
          "base_uri": "https://localhost:8080/"
        },
        "id": "dy4dprcULs_D",
        "outputId": "812da0d1-4a51-44b2-f069-c2aea1ab67b0"
      },
      "outputs": [
        {
          "name": "stdout",
          "output_type": "stream",
          "text": [
            "99.949\n"
          ]
        }
      ],
      "source": [
        "data = np.loadtxt(data_path + 'minutes_n_ingredients.csv',delimiter=',', dtype=np.int32, skiprows=1,usecols=(0,1,2))\n",
        "sr_recep = np.mean(data[:, 1])\n",
        "s_indg=np.count_nonzero(data[:, 1] < sr_recep)\n",
        "percent = 100*s_indg / data.shape[0]\n",
        "print(percent)"
      ]
    },
    {
      "cell_type": "markdown",
      "metadata": {
        "id": "ZEdj615luMv7"
      },
      "source": [
        "12. Назовем \"простым\" такой рецепт, длительность выполнения которого не больше 20 минут и кол-во ингредиентов в котором не больше 5. Создайте версию датасета с дополнительным столбцом, значениями которого являются 1, если рецепт простой, и 0 в противном случае."
      ]
    },
    {
      "cell_type": "code",
      "execution_count": 4,
      "metadata": {
        "colab": {
          "base_uri": "https://localhost:8080/"
        },
        "id": "9CibietOOhmK",
        "outputId": "39775299-792b-4f58-a754-709836411f13"
      },
      "outputs": [
        {
          "output_type": "stream",
          "name": "stdout",
          "text": [
            "[[127244     60     16      0]\n",
            " [ 23891     25      7      0]\n",
            " [ 94746     10      6      0]\n",
            " ...\n",
            " [498432     65     15      0]\n",
            " [370915      5      4      1]\n",
            " [ 81993    140     14      0]]\n"
          ]
        }
      ],
      "source": [
        "import numpy as np\n",
        "data = np.loadtxt(data_path + 'minutes_n_ingredients.csv',delimiter=',', dtype=np.int32, skiprows=1,usecols=(0,1,2))\n",
        "\n",
        "simple_recipe = np.where((data[:, 1] <= 20) & (data[:, 2] <= 5), 1, 0)\n",
        "\n",
        "# Объединение нового столбца с исходными данными\n",
        "data_with_simple_recipe=np.column_stack((data, simple_recipe))\n",
        "print(data_with_simple_recipe)\n",
        "# Сохранение нового датасета в файл\n",
        "np.savetxt('minutes_n_ingredients_with_simple_recipe.csv', data_with_simple_recipe, delimiter=',')\n",
        "\n"
      ]
    },
    {
      "cell_type": "markdown",
      "metadata": {
        "id": "OMsILDDRuMv7"
      },
      "source": [
        "13. Выведите процент \"простых\" рецептов в датасете"
      ]
    },
    {
      "cell_type": "code",
      "execution_count": 5,
      "metadata": {
        "colab": {
          "base_uri": "https://localhost:8080/"
        },
        "id": "M4_onSdbe9aA",
        "outputId": "4ef8a571-5a4e-4984-e0e7-c2874e75fd27"
      },
      "outputs": [
        {
          "output_type": "stream",
          "name": "stdout",
          "text": [
            "9.552\n"
          ]
        }
      ],
      "source": [
        "percent_simple = (simple_recipe == 1).mean() * 100\n",
        "print(percent_simple)"
      ]
    },
    {
      "cell_type": "markdown",
      "metadata": {
        "id": "rbYY5nEwuMv8"
      },
      "source": [
        "14. Разделим рецепты на группы по следующему правилу. Назовем рецепты короткими, если их продолжительность составляет менее 10 минут; стандартными, если их продолжительность составляет более 10, но менее 20 минут; и длинными, если их продолжительность составляет не менее 20 минут. Создайте трехмерный массив, где нулевая ось отвечает за номер группы (короткий, стандартный или длинный рецепт), первая ось - за сам рецепт и вторая ось - за характеристики рецепта. Выберите максимальное количество рецептов из каждой группы таким образом, чтобы было возможно сформировать трехмерный массив. Выведите форму полученного массива."
      ]
    },
    {
      "cell_type": "code",
      "execution_count": null,
      "metadata": {
        "colab": {
          "base_uri": "https://localhost:8080/"
        },
        "id": "A90p759luMv8",
        "outputId": "2283b9ff-86ac-4df5-f38d-e6fc0146d630"
      },
      "outputs": [
        {
          "name": "stdout",
          "output_type": "stream",
          "text": [
            "(3, 30, 3)\n"
          ]
        }
      ],
      "source": [
        "# Разделение рецептов на группы\n",
        "short_recipes = data[data[:, 1] < 10]\n",
        "standard_recipes = data[(data[:, 1] >= 10) & (data[:, 1] < 20)]\n",
        "long_recipes = data[data[:, 1] >= 20]\n",
        "\n",
        "# Максимальное количество рецептов в каждой группе\n",
        "max_short_recipes = min(len(short_recipes), 10)\n",
        "max_standard_recipes = min(len(standard_recipes), 10)\n",
        "max_long_recipes = min(len(long_recipes), 10)\n",
        "\n",
        "# Создание трехмерного массива\n",
        "result = np.zeros((3, max_short_recipes + max_standard_recipes + max_long_recipes, 3))\n",
        "\n",
        "# Заполнение трехмерного массива данными\n",
        "result[0, :max_short_recipes, :] = short_recipes[:max_short_recipes]\n",
        "result[1, :max_standard_recipes, :] = standard_recipes[:max_standard_recipes]\n",
        "result[2, :max_long_recipes, :] = long_recipes[:max_long_recipes]\n",
        "\n",
        "# Вывод формы полученного массива\n",
        "print(result.shape)"
      ]
    }
  ],
  "metadata": {
    "colab": {
      "provenance": []
    },
    "kernelspec": {
      "display_name": "Python 3 (ipykernel)",
      "language": "python",
      "name": "python3"
    },
    "language_info": {
      "codemirror_mode": {
        "name": "ipython",
        "version": 3
      },
      "file_extension": ".py",
      "mimetype": "text/x-python",
      "name": "python",
      "nbconvert_exporter": "python",
      "pygments_lexer": "ipython3",
      "version": "3.10.9"
    }
  },
  "nbformat": 4,
  "nbformat_minor": 0
}