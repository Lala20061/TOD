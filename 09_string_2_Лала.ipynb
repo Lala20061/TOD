{
 "cells": [
  {
   "cell_type": "markdown",
   "metadata": {},
   "source": [
    "# Введение в обработку текста на естественном языке"
   ]
  },
  {
   "cell_type": "markdown",
   "metadata": {},
   "source": [
    "Материалы:\n",
    "* Макрушин С.В. Лекция 9: Введение в обработку текста на естественном языке\\\n",
    "* https://realpython.com/nltk-nlp-python/\n",
    "* https://scikit-learn.org/stable/modules/feature_extraction.html"
   ]
  },
  {
   "cell_type": "markdown",
   "metadata": {},
   "source": [
    "## Задачи для совместного разбора"
   ]
  },
  {
   "cell_type": "code",
   "execution_count": 8,
   "metadata": {},
   "outputs": [],
   "source": [
    "\n",
    "from sklearn.feature_extraction.text import CountVectorizer\n",
    "import pymorphy2"
   ]
  },
  {
   "cell_type": "code",
   "execution_count": 7,
   "metadata": {},
   "outputs": [
    {
     "name": "stderr",
     "output_type": "stream",
     "text": [
      "[nltk_data] Downloading package wordnet to\n",
      "[nltk_data]     C:\\Users\\reser\\AppData\\Roaming\\nltk_data...\n",
      "[nltk_data]   Package wordnet is already up-to-date!\n",
      "[nltk_data] Downloading package stopwords to\n",
      "[nltk_data]     C:\\Users\\reser\\AppData\\Roaming\\nltk_data...\n",
      "[nltk_data]   Unzipping corpora\\stopwords.zip.\n"
     ]
    }
   ],
   "source": [
    "from sklearn.feature_extraction.text import CountVectorizer, TfidfVectorizer\n",
    "from nltk.stem import WordNetLemmatizer, SnowballStemmer\n",
    "from nltk.metrics import *\n",
    "from nltk.tokenize import sent_tokenize, word_tokenize\n",
    "from nltk.corpus import stopwords\n",
    "import pymorphy2\n",
    "import pandas as pd\n",
    "import nltk\n",
    "import random\n",
    "from functools import reduce\n",
    "nltk.download('wordnet')\n",
    "nltk.download('stopwords')\n",
    "stemmer = SnowballStemmer(\"russian\")"
   ]
  },
  {
   "cell_type": "markdown",
   "metadata": {},
   "source": [
    "1. Считайте слова из файла `litw-win.txt` и запишите их в список `words`. В заданном предложении исправьте все опечатки, заменив слова с опечатками на ближайшие (в смысле расстояния Левенштейна) к ним слова из списка `words`. Считайте, что в слове есть опечатка, если данное слово не содержится в списке `words`. "
   ]
  },
  {
   "cell_type": "code",
   "execution_count": 4,
   "metadata": {},
   "outputs": [
    {
     "name": "stdout",
     "output_type": "stream",
     "text": [
      "с величайшим усилием выбравшись из потока убегающих людей кутузов со свитой уменьшившейся вдвое поехал на звуки выстрелов русских орудий\n"
     ]
    }
   ],
   "source": [
    "!!pip install Levenshtein\n",
    "import Levenshtein\n",
    "\n",
    "# Чтение слов из файла и запись их в список words\n",
    "with open('litw-win.txt', 'r') as file:\n",
    "    words = file.read().split()\n",
    "\n",
    "text = '''с велечайшим усилием выбравшись из потока убегающих людей Кутузов со свитой уменьшевшейся вдвое поехал на звуки выстрелов русских орудий'''\n",
    "\n",
    "# Разделение текста на слова\n",
    "text_words = text.split()\n",
    "\n",
    "# Замена опечаток в тексте\n",
    "corrected_text = []\n",
    "for word in text_words:\n",
    "    if word not in words:\n",
    "        closest_word = min(words, key=lambda x: Levenshtein.distance(word, x))\n",
    "        corrected_text.append(closest_word)\n",
    "    else:\n",
    "        corrected_text.append(word)\n",
    "\n",
    "# Объединение слов в исправленный текст\n",
    "corrected_text = ' '.join(corrected_text)\n",
    "\n",
    "print(corrected_text)\n"
   ]
  },
  {
   "cell_type": "markdown",
   "metadata": {},
   "source": [
    "2. Разбейте текст из формулировки задания 1 на слова; проведите стемминг и лемматизацию слов."
   ]
  },
  {
   "cell_type": "code",
   "execution_count": 13,
   "metadata": {},
   "outputs": [
    {
     "data": {
      "text/plain": [
       "['Считайте',\n",
       " 'слова',\n",
       " 'из',\n",
       " 'файла',\n",
       " 'litw-win.txt',\n",
       " 'и',\n",
       " 'запишите',\n",
       " 'их',\n",
       " 'в',\n",
       " 'список',\n",
       " 'word',\n",
       " '.',\n",
       " 'В',\n",
       " 'заданном',\n",
       " 'предложении',\n",
       " 'исправьте',\n",
       " 'все',\n",
       " 'опечатки',\n",
       " ',',\n",
       " 'заменив',\n",
       " 'слова',\n",
       " 'с',\n",
       " 'опечатками',\n",
       " 'на',\n",
       " 'ближайшие',\n",
       " '(',\n",
       " 'в',\n",
       " 'смысле',\n",
       " 'расстояния',\n",
       " 'Левенштейна',\n",
       " ')',\n",
       " 'к',\n",
       " 'ним',\n",
       " 'слова',\n",
       " 'из',\n",
       " 'списка',\n",
       " 'word',\n",
       " '.',\n",
       " 'Считайте',\n",
       " ',',\n",
       " 'что',\n",
       " 'в',\n",
       " 'слове',\n",
       " 'есть',\n",
       " 'опечатка',\n",
       " ',',\n",
       " 'если',\n",
       " 'данное',\n",
       " 'слово',\n",
       " 'не',\n",
       " 'содержится',\n",
       " 'в',\n",
       " 'списке',\n",
       " 'word']"
      ]
     },
     "execution_count": 13,
     "metadata": {},
     "output_type": "execute_result"
    }
   ],
   "source": [
    "import nltk\n",
    "from nltk.stem import SnowballStemmer, WordNetLemmatizer\n",
    "\n",
    "text =  '''\n",
    "        Считайте слова из файла litw-win.txt и запишите их в список words. \n",
    "        В заданном предложении исправьте все опечатки, заменив слова с опечатками на ближайшие (в смысле расстояния Левенштейна)\n",
    "        к ним слова из списка words. Считайте, что в слове есть опечатка, если данное слово не содержится в списке words\n",
    "        '''\n",
    "words = nltk.word_tokenize(text)\n",
    "stemmer = SnowballStemmer(\"russian\")\n",
    "stemmed_words = [stemmer.stem(word) for word in words]\n",
    "lemmatizer = WordNetLemmatizer()\n",
    "lemmatized_words = [lemmatizer.lemmatize(word) for word in words]\n",
    "stemmed_words\n",
    "lemmatized_words\n",
    "\n"
   ]
  },
  {
   "cell_type": "markdown",
   "metadata": {},
   "source": [
    "3. Преобразуйте предложения из формулировки задания 1 в векторы при помощи `CountVectorizer`."
   ]
  },
  {
   "cell_type": "code",
   "execution_count": 17,
   "metadata": {},
   "outputs": [
    {
     "name": "stdout",
     "output_type": "stream",
     "text": [
      "[[1 1 1 3 1 1 1 1 1 1 1 1 2 1 1 1 1 1 1 1 1 1 1 1 3 1 1 1 1 1 1 1 2 1 1]]\n"
     ]
    }
   ],
   "source": [
    "\n",
    "from sklearn.feature_extraction.text import CountVectorizer\n",
    "\n",
    "text =  '''\n",
    "        Считайте слова из файла litw-win.txt и запишите их в список words. \n",
    "        В заданном предложении исправьте все опечатки, заменив слова с опечатками на ближайшие (в смысле расстояния Левенштейна)\n",
    "        к ним слова из списка words. Считайте, что в слове есть опечатка, если данное слово не содержится в списке words\n",
    "        '''\n",
    "\n",
    "vectorizer = CountVectorizer()\n",
    "X = vectorizer.fit_transform([text])\n",
    "print(X.toarray())"
   ]
  },
  {
   "cell_type": "markdown",
   "metadata": {},
   "source": [
    "## Лабораторная работа 9"
   ]
  },
  {
   "cell_type": "markdown",
   "metadata": {},
   "source": [
    "### Расстояние редактирования"
   ]
  },
  {
   "cell_type": "markdown",
   "metadata": {},
   "source": [
    "1.1 Загрузите предобработанные описания рецептов из файла `preprocessed_descriptions.csv`. Получите набор уникальных слов `words`, содержащихся в текстах описаний рецептов (воспользуйтесь `word_tokenize` из `nltk`). "
   ]
  },
  {
   "cell_type": "code",
   "execution_count": 5,
   "metadata": {},
   "outputs": [
    {
     "name": "stdout",
     "output_type": "stream",
     "text": [
      "['an', 'original', 'recipe', 'created', 'by', 'chef', 'scott', 'meskan', 'george', 's']\n"
     ]
    }
   ],
   "source": [
    "import pandas as pd\n",
    "import random\n",
    "from nltk.tokenize import word_tokenize\n",
    "from functools import reduce\n",
    "\n",
    "n = random.randint(301, 500)\n",
    "preprocessed_descriptions = pd.read_csv(\"preprocessed_descriptions.csv\")[:n]\n",
    "preprocessed_descriptions.head()\n",
    "words = reduce(lambda x, y: x + y, [word_tokenize(item) for item in preprocessed_descriptions[\"preprocessed_descriptions\"].to_list() if isinstance(item, str)])\n",
    "print(words[:10])\n"
   ]
  },
  {
   "cell_type": "markdown",
   "metadata": {},
   "source": [
    "1.2 Сгенерируйте 5 пар случайно выбранных слов и посчитайте между ними расстояние редактирования."
   ]
  },
  {
   "cell_type": "code",
   "execution_count": 8,
   "metadata": {},
   "outputs": [
    {
     "name": "stdout",
     "output_type": "stream",
     "text": [
      "['inexpensive races', 'browsing cassava', 'learn aduki', 'wrapped blogspot', 'mixes dare']\n"
     ]
    },
    {
     "data": {
      "text/plain": [
       "[9, 7, 5, 7, 4]"
      ]
     },
     "execution_count": 8,
     "metadata": {},
     "output_type": "execute_result"
    }
   ],
   "source": [
    "words = list(set(words))\n",
    "pairs = [' '.join(random.choices(words, k=2)) for _ in range(5)]\n",
    "print(pairs)\n",
    "h_s = [edit_distance(*v.split()) for v in pairs]\n",
    "h_s"
   ]
  },
  {
   "cell_type": "markdown",
   "metadata": {},
   "source": [
    "1.3 Напишите функцию, которая для заданного слова `word` возвращает `k` ближайших к нему слов из списка `words` (близость слов измеряется с помощью расстояния Левенштейна)"
   ]
  },
  {
   "cell_type": "code",
   "execution_count": 9,
   "metadata": {},
   "outputs": [
    {
     "data": {
      "text/plain": [
       "['check', 'chuck', 'chef']"
      ]
     },
     "execution_count": 9,
     "metadata": {},
     "output_type": "execute_result"
    }
   ],
   "source": [
    "def k_nearest(word:str, k:int=1):\n",
    "    w_new = sorted(words, key=lambda w: edit_distance(w, word))\n",
    "    return w_new[:k]\n",
    "\n",
    "k_nearest('check', k=3)"
   ]
  },
  {
   "cell_type": "markdown",
   "metadata": {},
   "source": [
    "### Стемминг, лемматизация"
   ]
  },
  {
   "cell_type": "markdown",
   "metadata": {},
   "source": [
    "2.1 На основе результатов 1.1 создайте `pd.DataFrame` со столбцами: \n",
    "    * word\n",
    "    * stemmed_word \n",
    "    * normalized_word \n",
    "\n",
    "Столбец `word` укажите в качестве индекса. \n",
    "\n",
    "Для стемминга воспользуйтесь `SnowballStemmer`, для нормализации слов - `WordNetLemmatizer`. Сравните результаты стемминга и лемматизации."
   ]
  },
  {
   "cell_type": "code",
   "execution_count": 10,
   "metadata": {},
   "outputs": [
    {
     "data": {
      "text/html": [
       "<div>\n",
       "<style scoped>\n",
       "    .dataframe tbody tr th:only-of-type {\n",
       "        vertical-align: middle;\n",
       "    }\n",
       "\n",
       "    .dataframe tbody tr th {\n",
       "        vertical-align: top;\n",
       "    }\n",
       "\n",
       "    .dataframe thead th {\n",
       "        text-align: right;\n",
       "    }\n",
       "</style>\n",
       "<table border=\"1\" class=\"dataframe\">\n",
       "  <thead>\n",
       "    <tr style=\"text-align: right;\">\n",
       "      <th></th>\n",
       "      <th>word</th>\n",
       "      <th>normalized_word</th>\n",
       "    </tr>\n",
       "    <tr>\n",
       "      <th>stemmed_word</th>\n",
       "      <th></th>\n",
       "      <th></th>\n",
       "    </tr>\n",
       "  </thead>\n",
       "  <tbody>\n",
       "    <tr>\n",
       "      <th>working</th>\n",
       "      <td>working</td>\n",
       "      <td>working</td>\n",
       "    </tr>\n",
       "    <tr>\n",
       "      <th>reportedly</th>\n",
       "      <td>reportedly</td>\n",
       "      <td>reportedly</td>\n",
       "    </tr>\n",
       "    <tr>\n",
       "      <th>runny</th>\n",
       "      <td>runny</td>\n",
       "      <td>runny</td>\n",
       "    </tr>\n",
       "    <tr>\n",
       "      <th>tenderloin</th>\n",
       "      <td>tenderloin</td>\n",
       "      <td>tenderloin</td>\n",
       "    </tr>\n",
       "    <tr>\n",
       "      <th>coriander</th>\n",
       "      <td>coriander</td>\n",
       "      <td>coriander</td>\n",
       "    </tr>\n",
       "  </tbody>\n",
       "</table>\n",
       "</div>"
      ],
      "text/plain": [
       "                    word normalized_word\n",
       "stemmed_word                            \n",
       "working          working         working\n",
       "reportedly    reportedly      reportedly\n",
       "runny              runny           runny\n",
       "tenderloin    tenderloin      tenderloin\n",
       "coriander      coriander       coriander"
      ]
     },
     "execution_count": 10,
     "metadata": {},
     "output_type": "execute_result"
    }
   ],
   "source": [
    "lemmatizer = WordNetLemmatizer()\n",
    "\n",
    "stemmed_words = [stemmer.stem(word) for word in words]\n",
    "normalized_word = [lemmatizer.lemmatize(word) for word in words]\n",
    "df = pd.DataFrame(list(zip(words, stemmed_words, normalized_word))[10:20], columns=['word', 'stemmed_word', 'normalized_word'])\n",
    "df = df.set_index('stemmed_word')\n",
    "df.head()"
   ]
  },
  {
   "cell_type": "markdown",
   "metadata": {},
   "source": [
    "2.2. Удалите стоп-слова из описаний рецептов. Какую долю об общего количества слов составляли стоп-слова? Сравните топ-10 самых часто употребляемых слов до и после удаления стоп-слов."
   ]
  },
  {
   "cell_type": "code",
   "execution_count": 11,
   "metadata": {},
   "outputs": [
    {
     "name": "stdout",
     "output_type": "stream",
     "text": [
      "Доля стоп слов - 0.5835470197289235\n",
      "Топ 10 слов со стоп словами: the; a; i; and; this; it; to; is; of; for\n",
      "Топ 10 слов без стоп слов: recipe; make; easy; great; time; made; dish; delicious; bread; chicken\n"
     ]
    }
   ],
   "source": [
    "\n",
    "st_w = stopwords.words()\n",
    "texts = reduce(lambda x, y: x + ' ' + y, [item for item in preprocessed_descriptions[\"preprocessed_descriptions\"].to_list() if isinstance(item, str)])\n",
    "tokens = word_tokenize(texts)\n",
    "l = len(tokens)\n",
    "l_new = 0\n",
    "words_dict = {}\n",
    "words_dict_stop = {}\n",
    "for w in tokens:\n",
    "    if w not in st_w:\n",
    "        words_dict_stop[w] = words_dict_stop.get(w, 0) + 1\n",
    "        l_new += 1\n",
    "    words_dict[w] = words_dict.get(w, 0) + 1\n",
    "\n",
    "\n",
    "print(f'Доля стоп слов - {(l - l_new) / l}')\n",
    "print(f'Топ 10 слов со стоп словами: {\"; \".join(sorted(words_dict.keys(), key=lambda x: words_dict[x], reverse=True)[:10])}')\n",
    "print(f'Топ 10 слов без стоп слов: {\"; \".join(sorted(words_dict_stop.keys(), key=lambda x: words_dict_stop[x], reverse=True)[:10])}')"
   ]
  },
  {
   "cell_type": "markdown",
   "metadata": {},
   "source": [
    "### Векторное представление текста"
   ]
  },
  {
   "cell_type": "markdown",
   "metadata": {},
   "source": [
    "3.1 Выберите случайным образом 5 рецептов из набора данных. Представьте описание каждого рецепта в виде числового вектора при помощи `TfidfVectorizer`"
   ]
  },
  {
   "cell_type": "code",
   "execution_count": 12,
   "metadata": {},
   "outputs": [
    {
     "name": "stdout",
     "output_type": "stream",
     "text": [
      "                                         name  \\\n",
      "383                            afterburner  3   \n",
      "413                   alaska molasses cookies   \n",
      "63     reasonable  lemon chicken and potatoes   \n",
      "156                       3 cheese baked ziti   \n",
      "297  absolute best chicken tortilla soup ever   \n",
      "\n",
      "                             preprocessed_descriptions  \n",
      "383  a drink not too sweet   in this drink  we can ...  \n",
      "413  from cooking light  september 2002    allow an...  \n",
      "63   this is a recipe my mother and i made up it is...  \n",
      "156                          i got this from a ragu ad  \n",
      "297  i got this recipe from a website for which i v...  \n",
      "Рецепт:\n",
      " a drink not too sweet   in this drink  we can taste the vodka and triple sec   \r\n",
      "\r\n",
      "http   www drinksmixer com drink754 html\n",
      "Вектор:\n",
      " [0.         0.         0.         0.         0.         0.\n",
      " 0.         0.17781164 0.         0.         0.         0.\n",
      " 0.         0.22039294 0.         0.         0.22039294 0.\n",
      " 0.         0.         0.         0.         0.44078589 0.22039294\n",
      " 0.22039294 0.         0.         0.         0.         0.\n",
      " 0.         0.         0.22039294 0.22039294 0.         0.17781164\n",
      " 0.         0.         0.         0.         0.         0.\n",
      " 0.         0.         0.         0.         0.         0.\n",
      " 0.         0.         0.         0.         0.17781164 0.\n",
      " 0.         0.         0.         0.         0.         0.22039294\n",
      " 0.         0.         0.         0.         0.         0.22039294\n",
      " 0.22039294 0.         0.12416554 0.         0.         0.12416554\n",
      " 0.         0.22039294 0.         0.22039294 0.         0.\n",
      " 0.         0.         0.22039294 0.22039294 0.         0.\n",
      " 0.         0.         0.22039294 0.        ]\n",
      "\n",
      "Рецепт:\n",
      " from cooking light  september 2002    allow an extra 30 minutes for the dough to chill \n",
      "Вектор:\n",
      " [0.28040083 0.28040083 0.         0.         0.28040083 0.\n",
      " 0.22622562 0.         0.         0.         0.         0.\n",
      " 0.         0.         0.         0.28040083 0.         0.28040083\n",
      " 0.         0.         0.         0.28040083 0.         0.\n",
      " 0.         0.         0.         0.28040083 0.22622562 0.1877877\n",
      " 0.         0.         0.         0.         0.         0.\n",
      " 0.         0.         0.         0.         0.         0.28040083\n",
      " 0.         0.         0.         0.         0.         0.\n",
      " 0.28040083 0.         0.         0.         0.         0.\n",
      " 0.         0.         0.         0.         0.         0.\n",
      " 0.28040083 0.         0.         0.         0.         0.\n",
      " 0.         0.         0.15797293 0.         0.         0.\n",
      " 0.22622562 0.         0.         0.         0.         0.\n",
      " 0.         0.         0.         0.         0.         0.\n",
      " 0.         0.         0.         0.        ]\n",
      "\n",
      "Рецепт:\n",
      " this is a recipe my mother and i made up it is both easy to make and delicious   it is the most tender chicken i ve ever had   if you like things less sour  use a little less lemon juice \n",
      "Вектор:\n",
      " [0.         0.         0.         0.         0.         0.\n",
      " 0.         0.25737948 0.         0.         0.         0.\n",
      " 0.15950761 0.         0.15950761 0.         0.         0.\n",
      " 0.         0.         0.15950761 0.         0.         0.\n",
      " 0.         0.15950761 0.15950761 0.         0.         0.\n",
      " 0.         0.15950761 0.         0.         0.15950761 0.\n",
      " 0.38606921 0.25737948 0.15950761 0.15950761 0.31901523 0.\n",
      " 0.15950761 0.15950761 0.         0.         0.15950761 0.15950761\n",
      " 0.         0.15950761 0.15950761 0.12868974 0.         0.\n",
      " 0.         0.         0.         0.12868974 0.         0.\n",
      " 0.         0.         0.         0.         0.15950761 0.\n",
      " 0.         0.15950761 0.08986381 0.         0.15950761 0.08986381\n",
      " 0.12868974 0.         0.         0.         0.         0.15950761\n",
      " 0.15950761 0.12868974 0.         0.         0.         0.\n",
      " 0.         0.         0.         0.15950761]\n",
      "\n",
      "Рецепт:\n",
      " i got this from a ragu ad\n",
      "Вектор:\n",
      " [0.         0.         0.54098887 0.         0.         0.\n",
      " 0.         0.         0.         0.         0.         0.\n",
      " 0.         0.         0.         0.         0.         0.\n",
      " 0.         0.         0.         0.         0.         0.\n",
      " 0.         0.         0.         0.         0.         0.36230655\n",
      " 0.43646642 0.         0.         0.         0.         0.\n",
      " 0.         0.         0.         0.         0.         0.\n",
      " 0.         0.         0.         0.         0.         0.\n",
      " 0.         0.         0.         0.         0.         0.\n",
      " 0.         0.         0.54098887 0.         0.         0.\n",
      " 0.         0.         0.         0.         0.         0.\n",
      " 0.         0.         0.         0.         0.         0.3047837\n",
      " 0.         0.         0.         0.         0.         0.\n",
      " 0.         0.         0.         0.         0.         0.\n",
      " 0.         0.         0.         0.        ]\n",
      "\n",
      "Рецепт:\n",
      " i got this recipe from a website for which i ve long since lost the address   i wish i could credit the author  because this is truly an amazing soup   i d recommend not skipping the avocados  they are what puts it over the top  in my opinion \n",
      "Вектор:\n",
      " [0.         0.         0.         0.16372408 0.         0.16372408\n",
      " 0.13209156 0.         0.16372408 0.16372408 0.16372408 0.16372408\n",
      " 0.         0.         0.         0.         0.         0.\n",
      " 0.16372408 0.16372408 0.         0.         0.         0.\n",
      " 0.         0.         0.         0.         0.13209156 0.10964793\n",
      " 0.13209156 0.         0.         0.         0.         0.13209156\n",
      " 0.13209156 0.13209156 0.         0.         0.         0.\n",
      " 0.         0.         0.16372408 0.16372408 0.         0.\n",
      " 0.         0.         0.         0.13209156 0.13209156 0.16372408\n",
      " 0.16372408 0.16372408 0.         0.13209156 0.16372408 0.\n",
      " 0.         0.16372408 0.16372408 0.16372408 0.         0.\n",
      " 0.         0.         0.36895717 0.16372408 0.         0.18447858\n",
      " 0.         0.         0.16372408 0.         0.16372408 0.\n",
      " 0.         0.13209156 0.         0.         0.16372408 0.16372408\n",
      " 0.16372408 0.16372408 0.         0.        ]\n",
      "\n"
     ]
    }
   ],
   "source": [
    "data = preprocessed_descriptions.sample(5)\n",
    "print(data)\n",
    "\n",
    "vectorizer = TfidfVectorizer()\n",
    "vectorizer.fit(data['preprocessed_descriptions'])\n",
    "sent_vec = vectorizer.transform(data['preprocessed_descriptions'])\n",
    "sent_vec = sent_vec.toarray()\n",
    "for i, recipe in enumerate(data['preprocessed_descriptions']):\n",
    "    print(\"Рецепт:\\n\", recipe)\n",
    "    print(\"Вектор:\\n\", sent_vec[i])\n",
    "    print()"
   ]
  },
  {
   "cell_type": "markdown",
   "metadata": {},
   "source": [
    "3.2 Вычислите близость между каждой парой рецептов, выбранных в задании 3.1, используя косинусное расстояние (`scipy.spatial.distance.cosine`) Результаты оформите в виде таблицы `pd.DataFrame`. В качестве названий строк и столбцов используйте названия рецептов."
   ]
  },
  {
   "cell_type": "code",
   "execution_count": 13,
   "metadata": {},
   "outputs": [
    {
     "name": "stdout",
     "output_type": "stream",
     "text": [
      "a drink not too sweet   in this drink  we can taste the vodka and triple sec   \r\n",
      "\r\n",
      "http   www drinksmixer com drink754 html\n",
      "a drink not too sweet   in this drink  we can taste the vodka and triple sec   \r\n",
      "\r\n",
      "http   www drinksmixer com drink754 html\n",
      "1\n",
      "\n",
      "a drink not too sweet   in this drink  we can taste the vodka and triple sec   \r\n",
      "\r\n",
      "http   www drinksmixer com drink754 html\n",
      "from cooking light  september 2002    allow an extra 30 minutes for the dough to chill \n",
      "0.0\n",
      "\n",
      "a drink not too sweet   in this drink  we can taste the vodka and triple sec   \r\n",
      "\r\n",
      "http   www drinksmixer com drink754 html\n",
      "this is a recipe my mother and i made up it is both easy to make and delicious   it is the most tender chicken i ve ever had   if you like things less sour  use a little less lemon juice \n",
      "0.0\n",
      "\n",
      "a drink not too sweet   in this drink  we can taste the vodka and triple sec   \r\n",
      "\r\n",
      "http   www drinksmixer com drink754 html\n",
      "i got this from a ragu ad\n",
      "0.0\n",
      "\n",
      "a drink not too sweet   in this drink  we can taste the vodka and triple sec   \r\n",
      "\r\n",
      "http   www drinksmixer com drink754 html\n",
      "i got this recipe from a website for which i ve long since lost the address   i wish i could credit the author  because this is truly an amazing soup   i d recommend not skipping the avocados  they are what puts it over the top  in my opinion \n",
      "0.0\n",
      "\n",
      "from cooking light  september 2002    allow an extra 30 minutes for the dough to chill \n",
      "a drink not too sweet   in this drink  we can taste the vodka and triple sec   \r\n",
      "\r\n",
      "http   www drinksmixer com drink754 html\n",
      "0.0\n",
      "\n",
      "from cooking light  september 2002    allow an extra 30 minutes for the dough to chill \n",
      "from cooking light  september 2002    allow an extra 30 minutes for the dough to chill \n",
      "1\n",
      "\n",
      "from cooking light  september 2002    allow an extra 30 minutes for the dough to chill \n",
      "this is a recipe my mother and i made up it is both easy to make and delicious   it is the most tender chicken i ve ever had   if you like things less sour  use a little less lemon juice \n",
      "0.0\n",
      "\n",
      "from cooking light  september 2002    allow an extra 30 minutes for the dough to chill \n",
      "i got this from a ragu ad\n",
      "0.0\n",
      "\n",
      "from cooking light  september 2002    allow an extra 30 minutes for the dough to chill \n",
      "i got this recipe from a website for which i ve long since lost the address   i wish i could credit the author  because this is truly an amazing soup   i d recommend not skipping the avocados  they are what puts it over the top  in my opinion \n",
      "0.0\n",
      "\n",
      "this is a recipe my mother and i made up it is both easy to make and delicious   it is the most tender chicken i ve ever had   if you like things less sour  use a little less lemon juice \n",
      "a drink not too sweet   in this drink  we can taste the vodka and triple sec   \r\n",
      "\r\n",
      "http   www drinksmixer com drink754 html\n",
      "0.0\n",
      "\n",
      "this is a recipe my mother and i made up it is both easy to make and delicious   it is the most tender chicken i ve ever had   if you like things less sour  use a little less lemon juice \n",
      "from cooking light  september 2002    allow an extra 30 minutes for the dough to chill \n",
      "0.0\n",
      "\n",
      "this is a recipe my mother and i made up it is both easy to make and delicious   it is the most tender chicken i ve ever had   if you like things less sour  use a little less lemon juice \n",
      "this is a recipe my mother and i made up it is both easy to make and delicious   it is the most tender chicken i ve ever had   if you like things less sour  use a little less lemon juice \n",
      "1\n",
      "\n",
      "this is a recipe my mother and i made up it is both easy to make and delicious   it is the most tender chicken i ve ever had   if you like things less sour  use a little less lemon juice \n",
      "i got this from a ragu ad\n",
      "0.0\n",
      "\n",
      "this is a recipe my mother and i made up it is both easy to make and delicious   it is the most tender chicken i ve ever had   if you like things less sour  use a little less lemon juice \n",
      "i got this recipe from a website for which i ve long since lost the address   i wish i could credit the author  because this is truly an amazing soup   i d recommend not skipping the avocados  they are what puts it over the top  in my opinion \n",
      "0.08360631868876123\n",
      "\n",
      "i got this from a ragu ad\n",
      "a drink not too sweet   in this drink  we can taste the vodka and triple sec   \r\n",
      "\r\n",
      "http   www drinksmixer com drink754 html\n",
      "0.0\n",
      "\n",
      "i got this from a ragu ad\n",
      "from cooking light  september 2002    allow an extra 30 minutes for the dough to chill \n",
      "0.0\n",
      "\n",
      "i got this from a ragu ad\n",
      "this is a recipe my mother and i made up it is both easy to make and delicious   it is the most tender chicken i ve ever had   if you like things less sour  use a little less lemon juice \n",
      "0.0\n",
      "\n",
      "i got this from a ragu ad\n",
      "i got this from a ragu ad\n",
      "1\n",
      "\n",
      "i got this from a ragu ad\n",
      "i got this recipe from a website for which i ve long since lost the address   i wish i could credit the author  because this is truly an amazing soup   i d recommend not skipping the avocados  they are what puts it over the top  in my opinion \n",
      "0.09709725545237846\n",
      "\n",
      "i got this recipe from a website for which i ve long since lost the address   i wish i could credit the author  because this is truly an amazing soup   i d recommend not skipping the avocados  they are what puts it over the top  in my opinion \n",
      "a drink not too sweet   in this drink  we can taste the vodka and triple sec   \r\n",
      "\r\n",
      "http   www drinksmixer com drink754 html\n",
      "0.0\n",
      "\n",
      "i got this recipe from a website for which i ve long since lost the address   i wish i could credit the author  because this is truly an amazing soup   i d recommend not skipping the avocados  they are what puts it over the top  in my opinion \n",
      "from cooking light  september 2002    allow an extra 30 minutes for the dough to chill \n",
      "0.0\n",
      "\n",
      "i got this recipe from a website for which i ve long since lost the address   i wish i could credit the author  because this is truly an amazing soup   i d recommend not skipping the avocados  they are what puts it over the top  in my opinion \n",
      "this is a recipe my mother and i made up it is both easy to make and delicious   it is the most tender chicken i ve ever had   if you like things less sour  use a little less lemon juice \n",
      "0.08360631868876123\n",
      "\n",
      "i got this recipe from a website for which i ve long since lost the address   i wish i could credit the author  because this is truly an amazing soup   i d recommend not skipping the avocados  they are what puts it over the top  in my opinion \n",
      "i got this from a ragu ad\n",
      "0.09709725545237846\n",
      "\n",
      "i got this recipe from a website for which i ve long since lost the address   i wish i could credit the author  because this is truly an amazing soup   i d recommend not skipping the avocados  they are what puts it over the top  in my opinion \n",
      "i got this recipe from a website for which i ve long since lost the address   i wish i could credit the author  because this is truly an amazing soup   i d recommend not skipping the avocados  they are what puts it over the top  in my opinion \n",
      "1\n",
      "\n"
     ]
    },
    {
     "data": {
      "text/html": [
       "<div>\n",
       "<style scoped>\n",
       "    .dataframe tbody tr th:only-of-type {\n",
       "        vertical-align: middle;\n",
       "    }\n",
       "\n",
       "    .dataframe tbody tr th {\n",
       "        vertical-align: top;\n",
       "    }\n",
       "\n",
       "    .dataframe thead th {\n",
       "        text-align: right;\n",
       "    }\n",
       "</style>\n",
       "<table border=\"1\" class=\"dataframe\">\n",
       "  <thead>\n",
       "    <tr style=\"text-align: right;\">\n",
       "      <th></th>\n",
       "      <th>a drink not too sweet   in this drink  we can taste the vodka and triple sec   \\r\\n\\r\\nhttp   www drinksmixer com drink754 html</th>\n",
       "      <th>from cooking light  september 2002    allow an extra 30 minutes for the dough to chill</th>\n",
       "      <th>this is a recipe my mother and i made up it is both easy to make and delicious   it is the most tender chicken i ve ever had   if you like things less sour  use a little less lemon juice</th>\n",
       "      <th>i got this from a ragu ad</th>\n",
       "      <th>i got this recipe from a website for which i ve long since lost the address   i wish i could credit the author  because this is truly an amazing soup   i d recommend not skipping the avocados  they are what puts it over the top  in my opinion</th>\n",
       "    </tr>\n",
       "  </thead>\n",
       "  <tbody>\n",
       "    <tr>\n",
       "      <th>a drink not too sweet   in this drink  we can taste the vodka and triple sec   \\r\\n\\r\\nhttp   www drinksmixer com drink754 html</th>\n",
       "      <td>1.0</td>\n",
       "      <td>0.0</td>\n",
       "      <td>0.000000</td>\n",
       "      <td>0.000000</td>\n",
       "      <td>0.000000</td>\n",
       "    </tr>\n",
       "    <tr>\n",
       "      <th>from cooking light  september 2002    allow an extra 30 minutes for the dough to chill</th>\n",
       "      <td>0.0</td>\n",
       "      <td>1.0</td>\n",
       "      <td>0.000000</td>\n",
       "      <td>0.000000</td>\n",
       "      <td>0.000000</td>\n",
       "    </tr>\n",
       "    <tr>\n",
       "      <th>this is a recipe my mother and i made up it is both easy to make and delicious   it is the most tender chicken i ve ever had   if you like things less sour  use a little less lemon juice</th>\n",
       "      <td>0.0</td>\n",
       "      <td>0.0</td>\n",
       "      <td>1.000000</td>\n",
       "      <td>0.000000</td>\n",
       "      <td>0.083606</td>\n",
       "    </tr>\n",
       "    <tr>\n",
       "      <th>i got this from a ragu ad</th>\n",
       "      <td>0.0</td>\n",
       "      <td>0.0</td>\n",
       "      <td>0.000000</td>\n",
       "      <td>1.000000</td>\n",
       "      <td>0.097097</td>\n",
       "    </tr>\n",
       "    <tr>\n",
       "      <th>i got this recipe from a website for which i ve long since lost the address   i wish i could credit the author  because this is truly an amazing soup   i d recommend not skipping the avocados  they are what puts it over the top  in my opinion</th>\n",
       "      <td>0.0</td>\n",
       "      <td>0.0</td>\n",
       "      <td>0.083606</td>\n",
       "      <td>0.097097</td>\n",
       "      <td>1.000000</td>\n",
       "    </tr>\n",
       "  </tbody>\n",
       "</table>\n",
       "</div>"
      ],
      "text/plain": [
       "                                                    a drink not too sweet   in this drink  we can taste the vodka and triple sec   \\r\\n\\r\\nhttp   www drinksmixer com drink754 html  \\\n",
       "a drink not too sweet   in this drink  we can t...                                                1.0                                                                                 \n",
       "from cooking light  september 2002    allow an ...                                                0.0                                                                                 \n",
       "this is a recipe my mother and i made up it is ...                                                0.0                                                                                 \n",
       "i got this from a ragu ad                                                                         0.0                                                                                 \n",
       "i got this recipe from a website for which i ve...                                                0.0                                                                                 \n",
       "\n",
       "                                                    from cooking light  september 2002    allow an extra 30 minutes for the dough to chill   \\\n",
       "a drink not too sweet   in this drink  we can t...                                                0.0                                         \n",
       "from cooking light  september 2002    allow an ...                                                1.0                                         \n",
       "this is a recipe my mother and i made up it is ...                                                0.0                                         \n",
       "i got this from a ragu ad                                                                         0.0                                         \n",
       "i got this recipe from a website for which i ve...                                                0.0                                         \n",
       "\n",
       "                                                    this is a recipe my mother and i made up it is both easy to make and delicious   it is the most tender chicken i ve ever had   if you like things less sour  use a little less lemon juice   \\\n",
       "a drink not too sweet   in this drink  we can t...                                           0.000000                                                                                                                                             \n",
       "from cooking light  september 2002    allow an ...                                           0.000000                                                                                                                                             \n",
       "this is a recipe my mother and i made up it is ...                                           1.000000                                                                                                                                             \n",
       "i got this from a ragu ad                                                                    0.000000                                                                                                                                             \n",
       "i got this recipe from a website for which i ve...                                           0.083606                                                                                                                                             \n",
       "\n",
       "                                                    i got this from a ragu ad  \\\n",
       "a drink not too sweet   in this drink  we can t...                   0.000000   \n",
       "from cooking light  september 2002    allow an ...                   0.000000   \n",
       "this is a recipe my mother and i made up it is ...                   0.000000   \n",
       "i got this from a ragu ad                                            1.000000   \n",
       "i got this recipe from a website for which i ve...                   0.097097   \n",
       "\n",
       "                                                    i got this recipe from a website for which i ve long since lost the address   i wish i could credit the author  because this is truly an amazing soup   i d recommend not skipping the avocados  they are what puts it over the top  in my opinion   \n",
       "a drink not too sweet   in this drink  we can t...                                           0.000000                                                                                                                                                                                                    \n",
       "from cooking light  september 2002    allow an ...                                           0.000000                                                                                                                                                                                                    \n",
       "this is a recipe my mother and i made up it is ...                                           0.083606                                                                                                                                                                                                    \n",
       "i got this from a ragu ad                                                                    0.097097                                                                                                                                                                                                    \n",
       "i got this recipe from a website for which i ve...                                           1.000000                                                                                                                                                                                                    "
      ]
     },
     "execution_count": 13,
     "metadata": {},
     "output_type": "execute_result"
    }
   ],
   "source": [
    "import itertools\n",
    "from scipy.spatial import distance\n",
    "\n",
    "max_pair = None\n",
    "max_result = -1\n",
    "\n",
    "coeff_dict = {}\n",
    "vectorizer3 = TfidfVectorizer(analyzer=\"word\", stop_words=\"english\")\n",
    "transform3 = vectorizer3.fit_transform(data[\"preprocessed_descriptions\"].to_list())\n",
    "\n",
    "all_data = list(zip(data[\"preprocessed_descriptions\"].to_list(), transform3.toarray()))\n",
    "\n",
    "for pair in itertools.product(all_data, repeat=2):\n",
    "\n",
    "    text1, matrix1 = pair[0]\n",
    "    text2, matrix2 = pair[1]\n",
    "    result = distance.cosine(matrix1, matrix2)\n",
    "    inverse_result = 1-result\n",
    "\n",
    "    if text1 not in coeff_dict:\n",
    "        coeff_dict[text1] = []\n",
    "    coeff_dict[text1].append(inverse_result)\n",
    "\n",
    "\n",
    "    if inverse_result > max_result and text1 != text2:\n",
    "        max_result = inverse_result\n",
    "        max_pair = (text1, text2)\n",
    "\n",
    "    print(f\"{text1}\\n{text2}\\n{inverse_result}\\n\")\n",
    "\n",
    "df_final2 = pd.DataFrame.from_dict(coeff_dict)\n",
    "df_final2.columns = data[\"preprocessed_descriptions\"].to_list()\n",
    "df_final2.index = data[\"preprocessed_descriptions\"].to_list()\n",
    "df_final2"
   ]
  },
  {
   "cell_type": "markdown",
   "metadata": {},
   "source": [
    "3.3 Какие рецепты являются наиболее похожими? Прокомментируйте результат (словами)."
   ]
  },
  {
   "cell_type": "code",
   "execution_count": 14,
   "metadata": {},
   "outputs": [
    {
     "name": "stdout",
     "output_type": "stream",
     "text": [
      "Из датасета выше больше всего совпадений в предложениях:\n",
      "\n",
      "i got this from a ragu ad\n",
      "\n",
      "i got this recipe from a website for which i ve long since lost the address   i wish i could credit the author  because this is truly an amazing soup   i d recommend not skipping the avocados  they are what puts it over the top  in my opinion \n",
      "\n",
      "0.09709725545237846\n"
     ]
    }
   ],
   "source": [
    "print(f\"Из датасета выше больше всего совпадений в предложениях:\\n\\n{max_pair[0]}\\n\\n{max_pair[1]}\\n\\n{max_result}\")"
   ]
  },
  {
   "cell_type": "code",
   "execution_count": null,
   "metadata": {},
   "outputs": [],
   "source": []
  }
 ],
 "metadata": {
  "kernelspec": {
   "display_name": "Python 3 (ipykernel)",
   "language": "python",
   "name": "python3"
  },
  "language_info": {
   "codemirror_mode": {
    "name": "ipython",
    "version": 3
   },
   "file_extension": ".py",
   "mimetype": "text/x-python",
   "name": "python",
   "nbconvert_exporter": "python",
   "pygments_lexer": "ipython3",
   "version": "3.11.5"
  }
 },
 "nbformat": 4,
 "nbformat_minor": 4
}
