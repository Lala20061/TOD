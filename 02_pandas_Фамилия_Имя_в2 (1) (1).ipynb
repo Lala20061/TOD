{
 "cells": [
  {
   "cell_type": "markdown",
   "metadata": {},
   "source": [
    "# Pandas"
   ]
  },
  {
   "cell_type": "markdown",
   "metadata": {},
   "source": [
    "Материалы:\n",
    "* Макрушин С.В. \"Лекция 2: Библиотека Pandas\"\n",
    "* https://pandas.pydata.org/docs/user_guide/index.html#\n",
    "* https://pandas.pydata.org/docs/reference/index.html\n",
    "* Уэс Маккини. Python и анализ данных"
   ]
  },
  {
   "cell_type": "markdown",
   "metadata": {},
   "source": [
    "## Задачи для совместного разбора"
   ]
  },
  {
   "cell_type": "markdown",
   "metadata": {},
   "source": [
    "1. Загрузите данные из файла `sp500hst.txt` и обозначьте столбцы в соответствии с содержимым: `\"date\", \"ticker\", \"open\", \"high\", \"low\", \"close\", \"volume\"`."
   ]
  },
  {
   "cell_type": "code",
   "execution_count": 2,
   "metadata": {
    "scrolled": true
   },
   "outputs": [
    {
     "name": "stdout",
     "output_type": "stream",
     "text": [
      "        date ticker   open     high     low  close  volume\n",
      "0 2009-08-21      A  25.60  25.6100  25.220  25.55   34758\n",
      "1 2009-08-24      A  25.64  25.7400  25.330  25.50   22247\n",
      "2 2009-08-25      A  25.50  25.7000  25.225  25.34   30891\n",
      "3 2009-08-26      A  25.32  25.6425  25.145  25.48   33334\n",
      "4 2009-08-27      A  25.50  25.5700  25.230  25.54   70176\n"
     ]
    }
   ],
   "source": [
    "import pandas as pd\n",
    "\n",
    "\n",
    "column_names = [\"date\", \"ticker\", \"open\", \"high\", \"low\", \"close\", \"volume\"]\n",
    "\n",
    "data = pd.read_csv(\"sp500hst.txt\", header=None, names=column_names, parse_dates=[\"date\"])\n",
    "\n",
    "print(data.head())\n"
   ]
  },
  {
   "cell_type": "markdown",
   "metadata": {},
   "source": [
    "2. Рассчитайте среднее значение показателей для каждого из столбцов c номерами 3-6."
   ]
  },
  {
   "cell_type": "code",
   "execution_count": 3,
   "metadata": {
    "scrolled": true
   },
   "outputs": [
    {
     "name": "stdout",
     "output_type": "stream",
     "text": [
      "open         42.595458\n",
      "high         43.102243\n",
      "low          42.054464\n",
      "close        42.601865\n",
      "volume    81395.068138\n",
      "dtype: float64\n"
     ]
    }
   ],
   "source": [
    "mean_values = data.iloc[:, 2:].mean()\n",
    "\n",
    "print(mean_values)"
   ]
  },
  {
   "cell_type": "markdown",
   "metadata": {},
   "source": [
    "3. Добавьте столбец, содержащий только число месяца, к которому относится дата."
   ]
  },
  {
   "cell_type": "code",
   "execution_count": 4,
   "metadata": {
    "scrolled": true
   },
   "outputs": [
    {
     "name": "stdout",
     "output_type": "stream",
     "text": [
      "        date ticker   open     high     low  close  volume  month\n",
      "0 2009-08-21      A  25.60  25.6100  25.220  25.55   34758      8\n",
      "1 2009-08-24      A  25.64  25.7400  25.330  25.50   22247      8\n",
      "2 2009-08-25      A  25.50  25.7000  25.225  25.34   30891      8\n",
      "3 2009-08-26      A  25.32  25.6425  25.145  25.48   33334      8\n",
      "4 2009-08-27      A  25.50  25.5700  25.230  25.54   70176      8\n"
     ]
    }
   ],
   "source": [
    "data['month'] = data['date'].dt.month\n",
    "\n",
    "print(data.head())"
   ]
  },
  {
   "cell_type": "markdown",
   "metadata": {},
   "source": [
    "4. Рассчитайте суммарный объем торгов для для одинаковых значений тикеров."
   ]
  },
  {
   "cell_type": "code",
   "execution_count": 5,
   "metadata": {
    "scrolled": true
   },
   "outputs": [
    {
     "name": "stdout",
     "output_type": "stream",
     "text": [
      "ticker\n",
      "A        8609336\n",
      "AA      81898998\n",
      "AAPL    52261170\n",
      "ABC      9006756\n",
      "ABT     18975870\n",
      "          ...   \n",
      "XTO     21297931\n",
      "YHOO    56837171\n",
      "YUM     10971538\n",
      "ZION    15551119\n",
      "ZMH      4938916\n",
      "Name: volume, Length: 524, dtype: int64\n"
     ]
    }
   ],
   "source": [
    "total_volume_by_ticker = data.groupby('ticker')['volume'].sum()\n",
    "\n",
    "print(total_volume_by_ticker)"
   ]
  },
  {
   "cell_type": "markdown",
   "metadata": {},
   "source": [
    "5. Загрузите данные из файла sp500hst.txt и обозначьте столбцы в соответствии с содержимым: \"date\", \"ticker\", \"open\", \"high\", \"low\", \"close\", \"volume\". Добавьте столбец с расшифровкой названия тикера, используя данные из файла `sp_data2.csv` . В случае нехватки данных об именах тикеров корректно обработать их."
   ]
  },
  {
   "cell_type": "code",
   "execution_count": 29,
   "metadata": {
    "scrolled": true
   },
   "outputs": [
    {
     "name": "stdout",
     "output_type": "stream",
     "text": [
      "                                       Abbreviation  Full_name  Percent\n",
      "0           20090821,A,25.6,25.61,25.22,25.55,34758        NaN      NaN\n",
      "1           20090824,A,25.64,25.74,25.33,25.5,22247        NaN      NaN\n",
      "2           20090825,A,25.5,25.7,25.225,25.34,30891        NaN      NaN\n",
      "3       20090826,A,25.32,25.6425,25.145,25.48,33334        NaN      NaN\n",
      "4           20090827,A,25.5,25.57,25.23,25.54,70176        NaN      NaN\n",
      "...                                             ...        ...      ...\n",
      "122569    20100813,ZMH,51.72,51.9,51.38,51.44,14561        NaN      NaN\n",
      "122570       20100816,ZMH,51.13,51.47,50.6,51,13489        NaN      NaN\n",
      "122571    20100817,ZMH,51.14,51.6,50.89,51.21,20498        NaN      NaN\n",
      "122572   20100819,ZMH,51.63,51.63,50.17,50.22,18259        NaN      NaN\n",
      "122573   20100820,ZMH,50.03,50.55,49.48,49.82,17792        NaN      NaN\n",
      "\n",
      "[122574 rows x 3 columns]\n"
     ]
    }
   ],
   "source": [
    "\n",
    "\n",
    "import pandas as pd\n",
    "\n",
    "new_data = pd.read_csv(\"sp500hst.txt\", delimiter=\";\", names=[\"Abbreviation\", \"Full_name\", \"Percent\"])\n",
    "print(new_data)\n",
    "\n"
   ]
  },
  {
   "cell_type": "markdown",
   "metadata": {},
   "source": [
    "## Лабораторная работа №2"
   ]
  },
  {
   "cell_type": "markdown",
   "metadata": {},
   "source": [
    "### Базовые операции с `DataFrame`"
   ]
  },
  {
   "cell_type": "markdown",
   "metadata": {},
   "source": [
    "1.1 В файлах `recipes_sample.csv` и `reviews_sample.csv` находится информация об рецептах блюд и отзывах на эти рецепты соответственно. Загрузите данные из файлов в виде `pd.DataFrame` с названиями `recipes` и `reviews`. Обратите внимание на корректное считывание столбца с индексами в таблице `reviews` (безымянный столбец)."
   ]
  },
  {
   "cell_type": "code",
   "execution_count": 14,
   "metadata": {
    "scrolled": true
   },
   "outputs": [],
   "source": [
    "import numpy as np\n",
    "import pandas as pd"
   ]
  },
  {
   "cell_type": "code",
   "execution_count": 41,
   "metadata": {
    "scrolled": true
   },
   "outputs": [
    {
     "name": "stdout",
     "output_type": "stream",
     "text": [
      "                                    name     id  minutes  contributor_id  \\\n",
      "0  george s at the cove  black bean soup  44123       90           35193   \n",
      "1     healthy for them  yogurt popsicles  67664       10           91970   \n",
      "2           i can t believe it s spinach  38798       30            1533   \n",
      "\n",
      "    submitted  n_steps                                        description  \\\n",
      "0  2002-10-25      NaN  an original recipe created by chef scott meska...   \n",
      "1  2003-07-26      NaN  my children and their friends ask for my homem...   \n",
      "2  2002-08-29      NaN            these were so go, it surprised even me.   \n",
      "\n",
      "   n_ingredients  description_length  \n",
      "0           18.0               330.0  \n",
      "1            NaN               255.0  \n",
      "2            8.0                39.0  \n",
      "            user_id  recipe_id        date  rating  \\\n",
      "1059834      689540     222001  2008-04-08       5   \n",
      "453285   2000242659     354979  2015-06-02       5   \n",
      "691207       463435     415599  2010-09-30       5   \n",
      "\n",
      "                                                    review  \n",
      "1059834  Well, we were not a crowd but it was a fabulou...  \n",
      "453285   I have been a steak eater and dedicated BBQ gr...  \n",
      "691207   Wonderful and simple to prepare seasoning blen...  \n"
     ]
    }
   ],
   "source": [
    "recipes=pd.read_csv('recipes_sample.csv',sep=',')\n",
    "reviews=pd.read_csv('reviews_sample.csv',sep=',',index_col=0)\n",
    "#показывает верхние 3 строки\n",
    "print(recipes.head(3))\n",
    "#показывает нижние 3 строки\n",
    "print(reviews.tail(3))"
   ]
  },
  {
   "cell_type": "markdown",
   "metadata": {},
   "source": [
    "1.2 Для каждой из таблиц выведите основные параметры:\n",
    "* количество точек данных (строк);\n",
    "* количество столбцов;\n",
    "* тип данных каждого столбца."
   ]
  },
  {
   "cell_type": "code",
   "execution_count": 47,
   "metadata": {
    "scrolled": true
   },
   "outputs": [
    {
     "name": "stdout",
     "output_type": "stream",
     "text": [
      "30000\n",
      "126696\n",
      "8\n",
      "5\n",
      "name               object\n",
      "id                  int64\n",
      "minutes             int64\n",
      "contributor_id      int64\n",
      "submitted          object\n",
      "n_steps           float64\n",
      "description        object\n",
      "n_ingredients     float64\n",
      "dtype: object\n",
      "name               object\n",
      "id                  int64\n",
      "minutes             int64\n",
      "contributor_id      int64\n",
      "submitted          object\n",
      "n_steps           float64\n",
      "description        object\n",
      "n_ingredients     float64\n",
      "dtype: object\n"
     ]
    }
   ],
   "source": [
    "#количество точек данных (строк)\n",
    "recipes_rows=recipes.shape[0]\n",
    "reviews_rows=reviews.shape[0]\n",
    "print(recipes_rows)\n",
    "print(reviews_rows)\n",
    "\n",
    "\"\"\"\n",
    "recipes_rows=recipes.count()[0]\n",
    "reviews_rows=reviews.count()[0]\n",
    "print(recipes_rows)\n",
    "print(reviews_rows)\n",
    "\"\"\"\n",
    "#количество столбцов\n",
    "recipes_columns=recipes.shape[1]\n",
    "reviews_columns=reviews.shape[1]\n",
    "print(recipes_columns)\n",
    "print(reviews_columns)\n",
    "\"\"\"\n",
    "recipes_columns=len(recipes.columns)\n",
    "reviews_columns=len(reviews.columns)\n",
    "print(recipes_columns)\n",
    "print(reviews_columns)\n",
    "\"\"\"\n",
    "\n",
    "#тип данных каждого столбца\n",
    "recipes_types=recipes.dtypes \n",
    "reviews_types=recipes.dtypes\n",
    "print(recipes_types)\n",
    "print(reviews_types)"
   ]
  },
  {
   "cell_type": "markdown",
   "metadata": {},
   "source": [
    "1.3 Исследуйте, в каких столбцах таблиц содержатся пропуски. Посчитайте долю строк, содержащих пропуски, в отношении к общему количеству строк."
   ]
  },
  {
   "cell_type": "code",
   "execution_count": 57,
   "metadata": {
    "scrolled": true
   },
   "outputs": [
    {
     "name": "stdout",
     "output_type": "stream",
     "text": [
      "user_id       0\n",
      "recipe_id     0\n",
      "date          0\n",
      "rating        0\n",
      "review       17\n",
      "dtype: int64\n",
      "name              0.000000\n",
      "id                0.000000\n",
      "minutes           0.000000\n",
      "contributor_id    0.000000\n",
      "submitted         0.000000\n",
      "n_steps           0.373000\n",
      "description       0.020767\n",
      "n_ingredients     0.296000\n",
      "dtype: float64\n",
      "user_id      0.000000\n",
      "recipe_id    0.000000\n",
      "date         0.000000\n",
      "rating       0.000000\n",
      "review       0.000134\n",
      "dtype: float64\n"
     ]
    },
    {
     "data": {
      "text/plain": [
       "'\\nprint(recipes.isnull().mean())\\nprint(reviews.isnull().mean())\\n'"
      ]
     },
     "execution_count": 57,
     "metadata": {},
     "output_type": "execute_result"
    }
   ],
   "source": [
    "#ищет пропуски\n",
    "num1=reviews.isnull().sum()\n",
    "num2=recipes.isnull().sum()\n",
    "\n",
    "#пропуски в отношении к общему количеству строк.\n",
    "print(recipes.isnull().sum()/len(recipes))\n",
    "print(reviews.isnull().sum()/len(reviews))\n",
    "\"\"\"\n",
    "print(recipes.isnull().mean())\n",
    "print(reviews.isnull().mean())\n",
    "\"\"\"\n"
   ]
  },
  {
   "cell_type": "markdown",
   "metadata": {},
   "source": [
    "1.4 Рассчитайте среднее значение для каждого из числовых столбцов (где это имеет смысл)."
   ]
  },
  {
   "cell_type": "code",
   "execution_count": 61,
   "metadata": {
    "scrolled": true
   },
   "outputs": [
    {
     "name": "stdout",
     "output_type": "stream",
     "text": [
      "user_id      1.408013e+08\n",
      "recipe_id    1.600944e+05\n",
      "rating       4.410802e+00\n",
      "dtype: float64\n",
      "id                2.218793e+05\n",
      "minutes           1.233581e+02\n",
      "contributor_id    5.635901e+06\n",
      "n_steps           9.805582e+00\n",
      "n_ingredients     9.008286e+00\n",
      "dtype: float64\n"
     ]
    }
   ],
   "source": [
    "reviews_mean=reviews.select_dtypes(include=['int64', 'float64']).mean()\n",
    "recipes_mean=recipes.select_dtypes(include=['int64', 'float64']).mean()\n",
    "print(reviews_mean)\n",
    "print(recipes_mean)"
   ]
  },
  {
   "cell_type": "markdown",
   "metadata": {},
   "source": [
    "1.5 Создайте серию из 10 случайных названий рецептов."
   ]
  },
  {
   "cell_type": "code",
   "execution_count": 62,
   "metadata": {
    "scrolled": true
   },
   "outputs": [
    {
     "name": "stdout",
     "output_type": "stream",
     "text": [
      "28776                                    veggie oat burger\n",
      "3043     bill s favorite lemon mushroom chicken with herbs\n",
      "6962     cilantro lime pork roll ups with caramelized o...\n",
      "5403                                  cherry crescent ring\n",
      "19812                                  papa s reuben pizza\n",
      "24776                                      son in law eggs\n",
      "7934                                  cranberry lemon cake\n",
      "20657                  pheasant with mushrooms  and onions\n",
      "23085                                 rustic potato loaves\n",
      "5597                          chicken and noodle miso soup\n",
      "Name: name, dtype: object\n"
     ]
    }
   ],
   "source": [
    "new_recipe=recipes['name'].sample(n=10)\n",
    "print(new_recipe)"
   ]
  },
  {
   "cell_type": "markdown",
   "metadata": {},
   "source": [
    "1.6 Измените индекс в таблице `reviews`, пронумеровав строки, начиная с нуля."
   ]
  },
  {
   "cell_type": "code",
   "execution_count": 65,
   "metadata": {
    "scrolled": true
   },
   "outputs": [
    {
     "name": "stdout",
     "output_type": "stream",
     "text": [
      "        user_id  recipe_id date  rating review\n",
      "0           NaN        NaN  NaN     NaN    NaN\n",
      "1           NaN        NaN  NaN     NaN    NaN\n",
      "2           NaN        NaN  NaN     NaN    NaN\n",
      "3           NaN        NaN  NaN     NaN    NaN\n",
      "4           NaN        NaN  NaN     NaN    NaN\n",
      "...         ...        ...  ...     ...    ...\n",
      "126691      NaN        NaN  NaN     NaN    NaN\n",
      "126692      NaN        NaN  NaN     NaN    NaN\n",
      "126693      NaN        NaN  NaN     NaN    NaN\n",
      "126694      NaN        NaN  NaN     NaN    NaN\n",
      "126695      NaN        NaN  NaN     NaN    NaN\n",
      "\n",
      "[126696 rows x 5 columns]\n"
     ]
    }
   ],
   "source": [
    "#reviews=reviews.reindex(range(len(reviews)))\n",
    "reviews=reviews.reset_index(drop=True)\n",
    "print(reviews)\n"
   ]
  },
  {
   "cell_type": "markdown",
   "metadata": {},
   "source": [
    "1.7 Выведите информацию о рецептах, время выполнения которых не больше 20 минут и кол-во ингредиентов в которых не больше 5."
   ]
  },
  {
   "cell_type": "code",
   "execution_count": 68,
   "metadata": {
    "scrolled": true
   },
   "outputs": [
    {
     "name": "stdout",
     "output_type": "stream",
     "text": [
      "                                                    name      id  minutes  \\\n",
      "28                                   quick biscuit bread  302399       20   \n",
      "60                         peas  fit for a king or queen  303944       20   \n",
      "90                     hawaiian sunrise           mimosa  100837        5   \n",
      "91            tasty dish s   banana pudding in 2 minutes  286484        2   \n",
      "94                                    1 minute meatballs   11361       13   \n",
      "...                                                  ...     ...      ...   \n",
      "29873  zip and steam red potatoes with butter and garlic  304922       13   \n",
      "29874                          ziplock vanilla ice cream   74250       10   \n",
      "29905                      zucchini and corn with cheese  256177       15   \n",
      "29980               zucchini with jalapeno monterey jack  320622       10   \n",
      "29983                          zucchini with serrano ham  162411       15   \n",
      "\n",
      "       contributor_id   submitted  n_steps  \\\n",
      "28             213909  2008-05-06     11.0   \n",
      "60             213909  2008-05-16      NaN   \n",
      "90              58104  2004-09-29      4.0   \n",
      "91              47892  2008-02-13      NaN   \n",
      "94               4470  2001-09-03      NaN   \n",
      "...               ...         ...      ...   \n",
      "29873          724218  2008-05-27      9.0   \n",
      "29874           24386  2003-10-29      8.0   \n",
      "29905          305531  2007-09-29      4.0   \n",
      "29980          305531  2008-08-20      3.0   \n",
      "29983          152500  2006-03-31      6.0   \n",
      "\n",
      "                                             description  n_ingredients  \n",
      "28     this is a wonderful quick bread to make as an ...            5.0  \n",
      "60     this recipe is so simple and the flavors are s...            5.0  \n",
      "90     pineapple mimosa was changed to hawaiian sunri...            3.0  \n",
      "91     \"mmmm, i love bananas!\" a --tasty dish-- origi...            4.0  \n",
      "94     this is a real short cut for cooks in a hurry....            2.0  \n",
      "...                                                  ...            ...  \n",
      "29873  i haven't tried this yet, but i am going to so...            5.0  \n",
      "29874  a fun thing for kids to do. may want to use mi...            3.0  \n",
      "29905  from betty crocker fresh spring recipes. i lik...            5.0  \n",
      "29980                                  simple and yummy!            3.0  \n",
      "29983  this dish is from tim malzer, a german chef wh...            5.0  \n",
      "\n",
      "[2019 rows x 8 columns]\n"
     ]
    }
   ],
   "source": [
    "recipes1=recipes[(recipes['minutes']<=20) & (recipes['n_ingredients']<=5)]\n",
    "print(recipes1)"
   ]
  },
  {
   "cell_type": "markdown",
   "metadata": {},
   "source": [
    "### Работа с датами в `pandas`"
   ]
  },
  {
   "cell_type": "markdown",
   "metadata": {},
   "source": [
    "2.1 Преобразуйте столбец `submitted` из таблицы `recipes` в формат времени. Модифицируйте решение задачи 1.1 так, чтобы считать столбец сразу в нужном формате."
   ]
  },
  {
   "cell_type": "code",
   "execution_count": 5,
   "metadata": {
    "scrolled": true
   },
   "outputs": [
    {
     "data": {
      "text/html": [
       "<div>\n",
       "<style scoped>\n",
       "    .dataframe tbody tr th:only-of-type {\n",
       "        vertical-align: middle;\n",
       "    }\n",
       "\n",
       "    .dataframe tbody tr th {\n",
       "        vertical-align: top;\n",
       "    }\n",
       "\n",
       "    .dataframe thead th {\n",
       "        text-align: right;\n",
       "    }\n",
       "</style>\n",
       "<table border=\"1\" class=\"dataframe\">\n",
       "  <thead>\n",
       "    <tr style=\"text-align: right;\">\n",
       "      <th></th>\n",
       "      <th>name</th>\n",
       "      <th>id</th>\n",
       "      <th>minutes</th>\n",
       "      <th>contributor_id</th>\n",
       "      <th>submitted</th>\n",
       "      <th>n_steps</th>\n",
       "      <th>description</th>\n",
       "      <th>n_ingredients</th>\n",
       "      <th>description_length</th>\n",
       "    </tr>\n",
       "  </thead>\n",
       "  <tbody>\n",
       "    <tr>\n",
       "      <th>0</th>\n",
       "      <td>george s at the cove  black bean soup</td>\n",
       "      <td>44123</td>\n",
       "      <td>90</td>\n",
       "      <td>35193</td>\n",
       "      <td>2002-10-25</td>\n",
       "      <td>NaN</td>\n",
       "      <td>an original recipe created by chef scott meska...</td>\n",
       "      <td>18.0</td>\n",
       "      <td>330.0</td>\n",
       "    </tr>\n",
       "    <tr>\n",
       "      <th>1</th>\n",
       "      <td>healthy for them  yogurt popsicles</td>\n",
       "      <td>67664</td>\n",
       "      <td>10</td>\n",
       "      <td>91970</td>\n",
       "      <td>2003-07-26</td>\n",
       "      <td>NaN</td>\n",
       "      <td>my children and their friends ask for my homem...</td>\n",
       "      <td>NaN</td>\n",
       "      <td>255.0</td>\n",
       "    </tr>\n",
       "    <tr>\n",
       "      <th>2</th>\n",
       "      <td>i can t believe it s spinach</td>\n",
       "      <td>38798</td>\n",
       "      <td>30</td>\n",
       "      <td>1533</td>\n",
       "      <td>2002-08-29</td>\n",
       "      <td>NaN</td>\n",
       "      <td>these were so go, it surprised even me.</td>\n",
       "      <td>8.0</td>\n",
       "      <td>39.0</td>\n",
       "    </tr>\n",
       "    <tr>\n",
       "      <th>3</th>\n",
       "      <td>italian  gut busters</td>\n",
       "      <td>35173</td>\n",
       "      <td>45</td>\n",
       "      <td>22724</td>\n",
       "      <td>2002-07-27</td>\n",
       "      <td>NaN</td>\n",
       "      <td>my sister-in-law made these for us at a family...</td>\n",
       "      <td>NaN</td>\n",
       "      <td>154.0</td>\n",
       "    </tr>\n",
       "    <tr>\n",
       "      <th>4</th>\n",
       "      <td>love is in the air  beef fondue   sauces</td>\n",
       "      <td>84797</td>\n",
       "      <td>25</td>\n",
       "      <td>4470</td>\n",
       "      <td>2004-02-23</td>\n",
       "      <td>4.0</td>\n",
       "      <td>i think a fondue is a very romantic casual din...</td>\n",
       "      <td>NaN</td>\n",
       "      <td>587.0</td>\n",
       "    </tr>\n",
       "    <tr>\n",
       "      <th>...</th>\n",
       "      <td>...</td>\n",
       "      <td>...</td>\n",
       "      <td>...</td>\n",
       "      <td>...</td>\n",
       "      <td>...</td>\n",
       "      <td>...</td>\n",
       "      <td>...</td>\n",
       "      <td>...</td>\n",
       "      <td>...</td>\n",
       "    </tr>\n",
       "    <tr>\n",
       "      <th>29995</th>\n",
       "      <td>zurie s holey rustic olive and cheddar bread</td>\n",
       "      <td>267661</td>\n",
       "      <td>80</td>\n",
       "      <td>200862</td>\n",
       "      <td>2007-11-25</td>\n",
       "      <td>16.0</td>\n",
       "      <td>this is based on a french recipe but i changed...</td>\n",
       "      <td>10.0</td>\n",
       "      <td>484.0</td>\n",
       "    </tr>\n",
       "    <tr>\n",
       "      <th>29996</th>\n",
       "      <td>zwetschgenkuchen  bavarian plum cake</td>\n",
       "      <td>386977</td>\n",
       "      <td>240</td>\n",
       "      <td>177443</td>\n",
       "      <td>2009-08-24</td>\n",
       "      <td>NaN</td>\n",
       "      <td>this is a traditional fresh plum cake, thought...</td>\n",
       "      <td>11.0</td>\n",
       "      <td>286.0</td>\n",
       "    </tr>\n",
       "    <tr>\n",
       "      <th>29997</th>\n",
       "      <td>zwiebelkuchen   southwest german onion cake</td>\n",
       "      <td>103312</td>\n",
       "      <td>75</td>\n",
       "      <td>161745</td>\n",
       "      <td>2004-11-03</td>\n",
       "      <td>NaN</td>\n",
       "      <td>this is a traditional late summer early fall s...</td>\n",
       "      <td>NaN</td>\n",
       "      <td>311.0</td>\n",
       "    </tr>\n",
       "    <tr>\n",
       "      <th>29998</th>\n",
       "      <td>zydeco soup</td>\n",
       "      <td>486161</td>\n",
       "      <td>60</td>\n",
       "      <td>227978</td>\n",
       "      <td>2012-08-29</td>\n",
       "      <td>NaN</td>\n",
       "      <td>this is a delicious soup that i originally fou...</td>\n",
       "      <td>NaN</td>\n",
       "      <td>648.0</td>\n",
       "    </tr>\n",
       "    <tr>\n",
       "      <th>29999</th>\n",
       "      <td>cookies by design   cookies on a stick</td>\n",
       "      <td>298512</td>\n",
       "      <td>29</td>\n",
       "      <td>506822</td>\n",
       "      <td>2008-04-15</td>\n",
       "      <td>9.0</td>\n",
       "      <td>i've heard of the 'cookies by design' company,...</td>\n",
       "      <td>10.0</td>\n",
       "      <td>125.0</td>\n",
       "    </tr>\n",
       "  </tbody>\n",
       "</table>\n",
       "<p>30000 rows × 9 columns</p>\n",
       "</div>"
      ],
      "text/plain": [
       "                                               name      id  minutes  \\\n",
       "0             george s at the cove  black bean soup   44123       90   \n",
       "1                healthy for them  yogurt popsicles   67664       10   \n",
       "2                      i can t believe it s spinach   38798       30   \n",
       "3                              italian  gut busters   35173       45   \n",
       "4          love is in the air  beef fondue   sauces   84797       25   \n",
       "...                                             ...     ...      ...   \n",
       "29995  zurie s holey rustic olive and cheddar bread  267661       80   \n",
       "29996          zwetschgenkuchen  bavarian plum cake  386977      240   \n",
       "29997   zwiebelkuchen   southwest german onion cake  103312       75   \n",
       "29998                                   zydeco soup  486161       60   \n",
       "29999        cookies by design   cookies on a stick  298512       29   \n",
       "\n",
       "       contributor_id  submitted  n_steps  \\\n",
       "0               35193 2002-10-25      NaN   \n",
       "1               91970 2003-07-26      NaN   \n",
       "2                1533 2002-08-29      NaN   \n",
       "3               22724 2002-07-27      NaN   \n",
       "4                4470 2004-02-23      4.0   \n",
       "...               ...        ...      ...   \n",
       "29995          200862 2007-11-25     16.0   \n",
       "29996          177443 2009-08-24      NaN   \n",
       "29997          161745 2004-11-03      NaN   \n",
       "29998          227978 2012-08-29      NaN   \n",
       "29999          506822 2008-04-15      9.0   \n",
       "\n",
       "                                             description  n_ingredients  \\\n",
       "0      an original recipe created by chef scott meska...           18.0   \n",
       "1      my children and their friends ask for my homem...            NaN   \n",
       "2                these were so go, it surprised even me.            8.0   \n",
       "3      my sister-in-law made these for us at a family...            NaN   \n",
       "4      i think a fondue is a very romantic casual din...            NaN   \n",
       "...                                                  ...            ...   \n",
       "29995  this is based on a french recipe but i changed...           10.0   \n",
       "29996  this is a traditional fresh plum cake, thought...           11.0   \n",
       "29997  this is a traditional late summer early fall s...            NaN   \n",
       "29998  this is a delicious soup that i originally fou...            NaN   \n",
       "29999  i've heard of the 'cookies by design' company,...           10.0   \n",
       "\n",
       "       description_length  \n",
       "0                   330.0  \n",
       "1                   255.0  \n",
       "2                    39.0  \n",
       "3                   154.0  \n",
       "4                   587.0  \n",
       "...                   ...  \n",
       "29995               484.0  \n",
       "29996               286.0  \n",
       "29997               311.0  \n",
       "29998               648.0  \n",
       "29999               125.0  \n",
       "\n",
       "[30000 rows x 9 columns]"
      ]
     },
     "execution_count": 5,
     "metadata": {},
     "output_type": "execute_result"
    }
   ],
   "source": [
    "recipes['submitted']=pd.to_datetime(recipes['submitted'])\n",
    "recipes"
   ]
  },
  {
   "cell_type": "markdown",
   "metadata": {},
   "source": [
    "2.2 Выведите информацию о рецептах, добавленных в датасет не позже 2010 года."
   ]
  },
  {
   "cell_type": "code",
   "execution_count": 81,
   "metadata": {
    "scrolled": true
   },
   "outputs": [
    {
     "name": "stdout",
     "output_type": "stream",
     "text": [
      "                                               name      id  minutes  \\\n",
      "0             george s at the cove  black bean soup   44123       90   \n",
      "1                healthy for them  yogurt popsicles   67664       10   \n",
      "2                      i can t believe it s spinach   38798       30   \n",
      "3                              italian  gut busters   35173       45   \n",
      "4          love is in the air  beef fondue   sauces   84797       25   \n",
      "...                                             ...     ...      ...   \n",
      "29993                     zuni caf zucchini pickles  316950     2895   \n",
      "29995  zurie s holey rustic olive and cheddar bread  267661       80   \n",
      "29996          zwetschgenkuchen  bavarian plum cake  386977      240   \n",
      "29997   zwiebelkuchen   southwest german onion cake  103312       75   \n",
      "29999        cookies by design   cookies on a stick  298512       29   \n",
      "\n",
      "       contributor_id  submitted  n_steps  \\\n",
      "0               35193 2002-10-25      NaN   \n",
      "1               91970 2003-07-26      NaN   \n",
      "2                1533 2002-08-29      NaN   \n",
      "3               22724 2002-07-27      NaN   \n",
      "4                4470 2004-02-23      4.0   \n",
      "...               ...        ...      ...   \n",
      "29993           62264 2008-07-31      NaN   \n",
      "29995          200862 2007-11-25     16.0   \n",
      "29996          177443 2009-08-24      NaN   \n",
      "29997          161745 2004-11-03      NaN   \n",
      "29999          506822 2008-04-15      9.0   \n",
      "\n",
      "                                             description  n_ingredients  \n",
      "0      an original recipe created by chef scott meska...           18.0  \n",
      "1      my children and their friends ask for my homem...            NaN  \n",
      "2                these were so go, it surprised even me.            8.0  \n",
      "3      my sister-in-law made these for us at a family...            NaN  \n",
      "4      i think a fondue is a very romantic casual din...            NaN  \n",
      "...                                                  ...            ...  \n",
      "29993  refrigerator pickles for some of the zucchini ...            8.0  \n",
      "29995  this is based on a french recipe but i changed...           10.0  \n",
      "29996  this is a traditional fresh plum cake, thought...           11.0  \n",
      "29997  this is a traditional late summer early fall s...            NaN  \n",
      "29999  i've heard of the 'cookies by design' company,...           10.0  \n",
      "\n",
      "[27661 rows x 8 columns]\n"
     ]
    }
   ],
   "source": [
    "new=recipes[recipes['submitted'].dt.year <= 2010]\n",
    "print(new)"
   ]
  },
  {
   "cell_type": "markdown",
   "metadata": {},
   "source": [
    "### Работа со строковыми данными в `pandas`"
   ]
  },
  {
   "cell_type": "markdown",
   "metadata": {},
   "source": [
    "3.1  Добавьте в таблицу `recipes` столбец `description_length`, в котором хранится длина описания рецепта из столбца `description`."
   ]
  },
  {
   "cell_type": "code",
   "execution_count": 87,
   "metadata": {
    "scrolled": true
   },
   "outputs": [
    {
     "name": "stdout",
     "output_type": "stream",
     "text": [
      "                                               name      id  minutes  \\\n",
      "0             george s at the cove  black bean soup   44123       90   \n",
      "1                healthy for them  yogurt popsicles   67664       10   \n",
      "2                      i can t believe it s spinach   38798       30   \n",
      "3                              italian  gut busters   35173       45   \n",
      "4          love is in the air  beef fondue   sauces   84797       25   \n",
      "...                                             ...     ...      ...   \n",
      "29995  zurie s holey rustic olive and cheddar bread  267661       80   \n",
      "29996          zwetschgenkuchen  bavarian plum cake  386977      240   \n",
      "29997   zwiebelkuchen   southwest german onion cake  103312       75   \n",
      "29998                                   zydeco soup  486161       60   \n",
      "29999        cookies by design   cookies on a stick  298512       29   \n",
      "\n",
      "       contributor_id  submitted  n_steps  \\\n",
      "0               35193 2002-10-25      NaN   \n",
      "1               91970 2003-07-26      NaN   \n",
      "2                1533 2002-08-29      NaN   \n",
      "3               22724 2002-07-27      NaN   \n",
      "4                4470 2004-02-23      4.0   \n",
      "...               ...        ...      ...   \n",
      "29995          200862 2007-11-25     16.0   \n",
      "29996          177443 2009-08-24      NaN   \n",
      "29997          161745 2004-11-03      NaN   \n",
      "29998          227978 2012-08-29      NaN   \n",
      "29999          506822 2008-04-15      9.0   \n",
      "\n",
      "                                             description  n_ingredients  \\\n",
      "0      an original recipe created by chef scott meska...           18.0   \n",
      "1      my children and their friends ask for my homem...            NaN   \n",
      "2                these were so go, it surprised even me.            8.0   \n",
      "3      my sister-in-law made these for us at a family...            NaN   \n",
      "4      i think a fondue is a very romantic casual din...            NaN   \n",
      "...                                                  ...            ...   \n",
      "29995  this is based on a french recipe but i changed...           10.0   \n",
      "29996  this is a traditional fresh plum cake, thought...           11.0   \n",
      "29997  this is a traditional late summer early fall s...            NaN   \n",
      "29998  this is a delicious soup that i originally fou...            NaN   \n",
      "29999  i've heard of the 'cookies by design' company,...           10.0   \n",
      "\n",
      "       description_length  \n",
      "0                   330.0  \n",
      "1                   255.0  \n",
      "2                    39.0  \n",
      "3                   154.0  \n",
      "4                   587.0  \n",
      "...                   ...  \n",
      "29995               484.0  \n",
      "29996               286.0  \n",
      "29997               311.0  \n",
      "29998               648.0  \n",
      "29999               125.0  \n",
      "\n",
      "[30000 rows x 9 columns]\n"
     ]
    }
   ],
   "source": [
    "new_recipes=recipes.assign(description_length=recipes['description'].str.len())\n",
    "#new_recipes=new_recipes.insert(len(new_recipes.columns), 'description_length', recipes['description'].str.len())\n",
    "print(new_recipes)"
   ]
  },
  {
   "cell_type": "markdown",
   "metadata": {},
   "source": [
    "3.2 Измените название каждого рецепта в таблице `recipes` таким образом, чтобы каждое слово в названии начиналось с прописной буквы."
   ]
  },
  {
   "cell_type": "code",
   "execution_count": 48,
   "metadata": {
    "scrolled": true
   },
   "outputs": [
    {
     "name": "stdout",
     "output_type": "stream",
     "text": [
      "0               George S At The Cove  Black Bean Soup\n",
      "1                  Healthy For Them  Yogurt Popsicles\n",
      "2                        I Can T Believe It S Spinach\n",
      "3                                Italian  Gut Busters\n",
      "4            Love Is In The Air  Beef Fondue   Sauces\n",
      "                             ...                     \n",
      "29995    Zurie S Holey Rustic Olive And Cheddar Bread\n",
      "29996            Zwetschgenkuchen  Bavarian Plum Cake\n",
      "29997     Zwiebelkuchen   Southwest German Onion Cake\n",
      "29998                                     Zydeco Soup\n",
      "29999          Cookies By Design   Cookies On A Stick\n",
      "Name: name, Length: 30000, dtype: object\n"
     ]
    }
   ],
   "source": [
    "recipes['name'] = recipes['name'].str.title()\n",
    "print(recipes['name'])"
   ]
  },
  {
   "cell_type": "markdown",
   "metadata": {},
   "source": [
    "3.3 Добавьте в таблицу `recipes` столбец `name_word_count`, в котором хранится количество слов из названии рецепта (считайте, что слова в названии разделяются только пробелами). Обратите внимание, что между словами может располагаться несколько пробелов подряд."
   ]
  },
  {
   "cell_type": "code",
   "execution_count": 94,
   "metadata": {
    "scrolled": true
   },
   "outputs": [
    {
     "name": "stdout",
     "output_type": "stream",
     "text": [
      "                                               name      id  minutes  \\\n",
      "0             George S At The Cove  Black Bean Soup   44123       90   \n",
      "1                Healthy For Them  Yogurt Popsicles   67664       10   \n",
      "2                      I Can T Believe It S Spinach   38798       30   \n",
      "3                              Italian  Gut Busters   35173       45   \n",
      "4          Love Is In The Air  Beef Fondue   Sauces   84797       25   \n",
      "...                                             ...     ...      ...   \n",
      "29995  Zurie S Holey Rustic Olive And Cheddar Bread  267661       80   \n",
      "29996          Zwetschgenkuchen  Bavarian Plum Cake  386977      240   \n",
      "29997   Zwiebelkuchen   Southwest German Onion Cake  103312       75   \n",
      "29998                                   Zydeco Soup  486161       60   \n",
      "29999        Cookies By Design   Cookies On A Stick  298512       29   \n",
      "\n",
      "       contributor_id  submitted  n_steps  \\\n",
      "0               35193 2002-10-25      NaN   \n",
      "1               91970 2003-07-26      NaN   \n",
      "2                1533 2002-08-29      NaN   \n",
      "3               22724 2002-07-27      NaN   \n",
      "4                4470 2004-02-23      4.0   \n",
      "...               ...        ...      ...   \n",
      "29995          200862 2007-11-25     16.0   \n",
      "29996          177443 2009-08-24      NaN   \n",
      "29997          161745 2004-11-03      NaN   \n",
      "29998          227978 2012-08-29      NaN   \n",
      "29999          506822 2008-04-15      9.0   \n",
      "\n",
      "                                             description  n_ingredients  \\\n",
      "0      an original recipe created by chef scott meska...           18.0   \n",
      "1      my children and their friends ask for my homem...            NaN   \n",
      "2                these were so go, it surprised even me.            8.0   \n",
      "3      my sister-in-law made these for us at a family...            NaN   \n",
      "4      i think a fondue is a very romantic casual din...            NaN   \n",
      "...                                                  ...            ...   \n",
      "29995  this is based on a french recipe but i changed...           10.0   \n",
      "29996  this is a traditional fresh plum cake, thought...           11.0   \n",
      "29997  this is a traditional late summer early fall s...            NaN   \n",
      "29998  this is a delicious soup that i originally fou...            NaN   \n",
      "29999  i've heard of the 'cookies by design' company,...           10.0   \n",
      "\n",
      "       description_length  name_word_count  \n",
      "0                   330.0                9  \n",
      "1                   255.0                6  \n",
      "2                    39.0                7  \n",
      "3                   154.0                4  \n",
      "4                   587.0               11  \n",
      "...                   ...              ...  \n",
      "29995               484.0                8  \n",
      "29996               286.0                5  \n",
      "29997               311.0                7  \n",
      "29998               648.0                2  \n",
      "29999               125.0                9  \n",
      "\n",
      "[30000 rows x 10 columns]\n"
     ]
    }
   ],
   "source": [
    "new_recipes1=recipes.assign(name_word_count=recipes['name'].str.split(' ').str.len())\n",
    "print(new_recipes1)"
   ]
  },
  {
   "cell_type": "markdown",
   "metadata": {},
   "source": [
    "### Группировки таблиц `pd.DataFrame`"
   ]
  },
  {
   "cell_type": "markdown",
   "metadata": {},
   "source": [
    "4.1 Посчитайте количество рецептов, представленных каждым из участников (`contributor_id`). Какой участник добавил максимальное кол-во рецептов?"
   ]
  },
  {
   "cell_type": "code",
   "execution_count": 46,
   "metadata": {
    "scrolled": true
   },
   "outputs": [
    {
     "name": "stdout",
     "output_type": "stream",
     "text": [
      "89831\n"
     ]
    }
   ],
   "source": [
    "contributor_c=recipes['contributor_id'].value_counts()\n",
    "max_contributor_id=contributor_c.idxmax()\n",
    "print(max_contributor_id)"
   ]
  },
  {
   "cell_type": "markdown",
   "metadata": {},
   "source": [
    "4.2 Посчитайте средний рейтинг к каждому из рецептов. Для скольких рецептов отсутствуют отзывы? Обратите внимание, что отзыв с нулевым рейтингом или не заполненным текстовым описанием не считается отсутствующим."
   ]
  },
  {
   "cell_type": "code",
   "execution_count": 47,
   "metadata": {
    "scrolled": true
   },
   "outputs": [
    {
     "name": "stdout",
     "output_type": "stream",
     "text": [
      "recipe_id\n",
      "48        1.000000\n",
      "55        4.750000\n",
      "66        4.944444\n",
      "91        4.750000\n",
      "94        5.000000\n",
      "            ...   \n",
      "536547    5.000000\n",
      "536610    0.000000\n",
      "536728    4.000000\n",
      "536729    4.750000\n",
      "536747    0.000000\n",
      "Name: rating, Length: 28100, dtype: float64\n",
      "1900\n"
     ]
    }
   ],
   "source": [
    "# средняя оценка для каждого рецепта\n",
    "average_ratings = reviews.groupby('recipe_id')['rating'].mean()\n",
    "\n",
    "recipes_no=len(recipes)-average_ratings.count()\n",
    "print(average_ratings)\n",
    "print(recipes_no)"
   ]
  },
  {
   "cell_type": "markdown",
   "metadata": {},
   "source": [
    "4.3 Посчитайте количество рецептов с разбивкой по годам создания."
   ]
  },
  {
   "cell_type": "code",
   "execution_count": 108,
   "metadata": {
    "scrolled": true
   },
   "outputs": [
    {
     "name": "stdout",
     "output_type": "stream",
     "text": [
      "year_done\n",
      "2007    4429\n",
      "2008    4029\n",
      "2006    3473\n",
      "2005    3130\n",
      "2009    2963\n",
      "2002    2644\n",
      "2003    2334\n",
      "2004    2153\n",
      "2010    1538\n",
      "2011     922\n",
      "2012     659\n",
      "2001     589\n",
      "2013     490\n",
      "1999     275\n",
      "2014     139\n",
      "2000     104\n",
      "2015      42\n",
      "2017      39\n",
      "2016      24\n",
      "2018      24\n",
      "Name: count, dtype: int64\n"
     ]
    }
   ],
   "source": [
    "recipes['submitted'] = pd.to_datetime(recipes['submitted'])\n",
    "recipes['year_done'] = recipes['submitted'].dt.year\n",
    "recipe_c = recipes['year_done'].value_counts()\n",
    "print(recipe_c)"
   ]
  },
  {
   "cell_type": "markdown",
   "metadata": {},
   "source": [
    "### Объединение таблиц `pd.DataFrame`"
   ]
  },
  {
   "cell_type": "markdown",
   "metadata": {},
   "source": [
    "5.1 При помощи объединения таблиц, создайте `DataFrame`, состоящий из четырех столбцов: `id`, `name`, `user_id`, `rating`. Рецепты, на которые не оставлен ни один отзыв, должны отсутствовать в полученной таблице. Подтвердите правильность работы вашего кода, выбрав рецепт, не имеющий отзывов, и попытавшись найти строку, соответствующую этому рецепту, в полученном `DataFrame`."
   ]
  },
  {
   "cell_type": "code",
   "execution_count": 32,
   "metadata": {
    "scrolled": true
   },
   "outputs": [
    {
     "name": "stdout",
     "output_type": "stream",
     "text": [
      "            id                                    name  user_id  rating\n",
      "0        44123   george s at the cove  black bean soup   743566       5\n",
      "1        44123   george s at the cove  black bean soup    76503       5\n",
      "2        44123   george s at the cove  black bean soup    34206       5\n",
      "3        67664      healthy for them  yogurt popsicles   494084       5\n",
      "4        67664      healthy for them  yogurt popsicles   303445       5\n",
      "...        ...                                     ...      ...     ...\n",
      "126691  486161                             zydeco soup   305531       5\n",
      "126692  486161                             zydeco soup  1271506       5\n",
      "126693  486161                             zydeco soup   724631       5\n",
      "126694  486161                             zydeco soup   133174       5\n",
      "126695  298512  cookies by design   cookies on a stick   804234       1\n",
      "\n",
      "[126696 rows x 4 columns]\n",
      "                                               name      id  minutes  \\\n",
      "0             george s at the cove  black bean soup   44123       90   \n",
      "1                healthy for them  yogurt popsicles   67664       10   \n",
      "2                      i can t believe it s spinach   38798       30   \n",
      "3                              italian  gut busters   35173       45   \n",
      "4          love is in the air  beef fondue   sauces   84797       25   \n",
      "...                                             ...     ...      ...   \n",
      "29995  zurie s holey rustic olive and cheddar bread  267661       80   \n",
      "29996          zwetschgenkuchen  bavarian plum cake  386977      240   \n",
      "29997   zwiebelkuchen   southwest german onion cake  103312       75   \n",
      "29998                                   zydeco soup  486161       60   \n",
      "29999        cookies by design   cookies on a stick  298512       29   \n",
      "\n",
      "       contributor_id   submitted  n_steps  \\\n",
      "0               35193  2002-10-25      NaN   \n",
      "1               91970  2003-07-26      NaN   \n",
      "2                1533  2002-08-29      NaN   \n",
      "3               22724  2002-07-27      NaN   \n",
      "4                4470  2004-02-23      4.0   \n",
      "...               ...         ...      ...   \n",
      "29995          200862  2007-11-25     16.0   \n",
      "29996          177443  2009-08-24      NaN   \n",
      "29997          161745  2004-11-03      NaN   \n",
      "29998          227978  2012-08-29      NaN   \n",
      "29999          506822  2008-04-15      9.0   \n",
      "\n",
      "                                             description  n_ingredients  \\\n",
      "0      an original recipe created by chef scott meska...           18.0   \n",
      "1      my children and their friends ask for my homem...            NaN   \n",
      "2                these were so go, it surprised even me.            8.0   \n",
      "3      my sister-in-law made these for us at a family...            NaN   \n",
      "4      i think a fondue is a very romantic casual din...            NaN   \n",
      "...                                                  ...            ...   \n",
      "29995  this is based on a french recipe but i changed...           10.0   \n",
      "29996  this is a traditional fresh plum cake, thought...           11.0   \n",
      "29997  this is a traditional late summer early fall s...            NaN   \n",
      "29998  this is a delicious soup that i originally fou...            NaN   \n",
      "29999  i've heard of the 'cookies by design' company,...           10.0   \n",
      "\n",
      "       description_length  \n",
      "0                   330.0  \n",
      "1                   255.0  \n",
      "2                    39.0  \n",
      "3                   154.0  \n",
      "4                   587.0  \n",
      "...                   ...  \n",
      "29995               484.0  \n",
      "29996               286.0  \n",
      "29997               311.0  \n",
      "29998               648.0  \n",
      "29999               125.0  \n",
      "\n",
      "[28100 rows x 9 columns]\n"
     ]
    }
   ],
   "source": [
    "# Объединение таблиц по столбцу 'recipe_id'\n",
    "merged_df = pd.merge(recipes, reviews, left_on='id', right_on='recipe_id')\n",
    "\n",
    "# Отбор только нужных столбцов\n",
    "merged_df = merged_df[['id', 'name', 'user_id', 'rating']]\n",
    "\n",
    "# Проверка наличия отзывов для каждого рецепта\n",
    "merged_df = merged_df.dropna(subset=['rating'])\n",
    "\n",
    "# Вывод DataFrame\n",
    "print(merged_df)\n",
    "\n",
    "# Проверка наличия рецепта без отзыва\n",
    "recipe_without_review = recipes[ recipes['id'].isin(merged_df['id'])]\n",
    "print(recipe_without_review)"
   ]
  },
  {
   "cell_type": "markdown",
   "metadata": {},
   "source": [
    "5.2 При помощи объединения таблиц и группировок, создайте `DataFrame`, состоящий из трех столбцов: `recipe_id`, `name`, `review_count`, где столбец `review_count` содержит кол-во отзывов, оставленных на рецепт `recipe_id`. У рецептов, на которые не оставлен ни один отзыв, в столбце `review_count` должен быть указан 0. Подтвердите правильность работы вашего кода, выбрав рецепт, не имеющий отзывов, и найдя строку, соответствующую этому рецепту, в полученном `DataFrame`."
   ]
  },
  {
   "cell_type": "code",
   "execution_count": null,
   "metadata": {
    "scrolled": true
   },
   "outputs": [],
   "source": []
  },
  {
   "cell_type": "code",
   "execution_count": 120,
   "metadata": {},
   "outputs": [
    {
     "name": "stdout",
     "output_type": "stream",
     "text": [
      "       recipe_id                                        name  review  \\\n",
      "0           48.0                            boston cream pie       2   \n",
      "1           55.0  betty crocker s southwestern guacamole dip       4   \n",
      "2           66.0                 black coffee barbecue sauce      18   \n",
      "3           91.0              brown rice and vegetable pilaf       4   \n",
      "4           94.0                       blueberry buttertarts       4   \n",
      "...          ...                                         ...     ...   \n",
      "28095   536547.0                         cauliflower ceviche       1   \n",
      "28096   536610.0               miracle home made puff pastry       1   \n",
      "28097   536728.0                       gluten free  vegemite       1   \n",
      "28098   536729.0                creole watermelon feta salad       4   \n",
      "28099   536747.0                          lemon pom pom cake       4   \n",
      "\n",
      "       review_count  \n",
      "0                 0  \n",
      "1                 0  \n",
      "2                 0  \n",
      "3                 0  \n",
      "4                 0  \n",
      "...             ...  \n",
      "28095             0  \n",
      "28096             0  \n",
      "28097             0  \n",
      "28098             0  \n",
      "28099             0  \n",
      "\n",
      "[28100 rows x 4 columns]\n"
     ]
    }
   ],
   "source": [
    "# Группировка столбцам \"recipe_id\" и \"name\" и подсчет количества отвов\n",
    "grouped_df = merged_df.copy().groupby(['recipe_id', 'name']).count().reset_index()\n",
    "\n",
    "# Создание нового DataFrame с нужными столбцами\n",
    "result_df = grouped_df[['recipe_id', 'name', 'review']]\n",
    "\n",
    "# Добавление столбца \"review_count\"\n",
    "result_df_copy = result_df.copy()\n",
    "result_df_copy['review_count'] = 0\n",
    "\n",
    "# Замена пропущенных значений на 0\n",
    "result_df_copy.loc[result_df_copy['review'].isnull(), 'review_count'] = 0\n",
    "\n",
    "# Проверка работы кода\n",
    "print(result_df_copy[result_df_copy['review_count'] == 0])\n",
    "\n",
    "\n"
   ]
  },
  {
   "cell_type": "markdown",
   "metadata": {},
   "source": [
    "5.3. Выясните, рецепты, добавленные в каком году, имеют наименьший средний рейтинг?"
   ]
  },
  {
   "cell_type": "code",
   "execution_count": 132,
   "metadata": {
    "scrolled": true
   },
   "outputs": [
    {
     "ename": "KeyError",
     "evalue": "'recipe_id'",
     "output_type": "error",
     "traceback": [
      "\u001b[1;31m---------------------------------------------------------------------------\u001b[0m",
      "\u001b[1;31mKeyError\u001b[0m                                  Traceback (most recent call last)",
      "Cell \u001b[1;32mIn[132], line 11\u001b[0m\n\u001b[0;32m      8\u001b[0m recipes\u001b[38;5;241m.\u001b[39mcolumns \u001b[38;5;241m=\u001b[39m recipes\u001b[38;5;241m.\u001b[39mcolumns\u001b[38;5;241m.\u001b[39mstr\u001b[38;5;241m.\u001b[39mlower()  \u001b[38;5;66;03m# Convert column names to lowercase for consistency\u001b[39;00m\n\u001b[0;32m      9\u001b[0m reviews\u001b[38;5;241m.\u001b[39mcolumns \u001b[38;5;241m=\u001b[39m reviews\u001b[38;5;241m.\u001b[39mcolumns\u001b[38;5;241m.\u001b[39mstr\u001b[38;5;241m.\u001b[39mlower()\n\u001b[1;32m---> 11\u001b[0m merged_data \u001b[38;5;241m=\u001b[39m pd\u001b[38;5;241m.\u001b[39mmerge(recipes, reviews, on\u001b[38;5;241m=\u001b[39m\u001b[38;5;124m\"\u001b[39m\u001b[38;5;124mrecipe_id\u001b[39m\u001b[38;5;124m\"\u001b[39m)\n\u001b[0;32m     12\u001b[0m average_ratings \u001b[38;5;241m=\u001b[39m merged_data\u001b[38;5;241m.\u001b[39mgroupby(\u001b[38;5;124m\"\u001b[39m\u001b[38;5;124myear_added\u001b[39m\u001b[38;5;124m\"\u001b[39m)[\u001b[38;5;124m\"\u001b[39m\u001b[38;5;124mrating\u001b[39m\u001b[38;5;124m\"\u001b[39m]\u001b[38;5;241m.\u001b[39mmean()\n\u001b[0;32m     13\u001b[0m lowest_rating_year \u001b[38;5;241m=\u001b[39m average_ratings\u001b[38;5;241m.\u001b[39mmin()[\u001b[38;5;241m0\u001b[39m]\n",
      "File \u001b[1;32m~\\anaconda3\\Lib\\site-packages\\pandas\\core\\reshape\\merge.py:148\u001b[0m, in \u001b[0;36mmerge\u001b[1;34m(left, right, how, on, left_on, right_on, left_index, right_index, sort, suffixes, copy, indicator, validate)\u001b[0m\n\u001b[0;32m    130\u001b[0m     _factorizers[np\u001b[38;5;241m.\u001b[39mintc] \u001b[38;5;241m=\u001b[39m libhashtable\u001b[38;5;241m.\u001b[39mInt64Factorizer\n\u001b[0;32m    132\u001b[0m _known \u001b[38;5;241m=\u001b[39m (np\u001b[38;5;241m.\u001b[39mndarray, ExtensionArray, Index, ABCSeries)\n\u001b[0;32m    135\u001b[0m \u001b[38;5;129m@Substitution\u001b[39m(\u001b[38;5;124m\"\u001b[39m\u001b[38;5;130;01m\\n\u001b[39;00m\u001b[38;5;124mleft : DataFrame or named Series\u001b[39m\u001b[38;5;124m\"\u001b[39m)\n\u001b[0;32m    136\u001b[0m \u001b[38;5;129m@Appender\u001b[39m(_merge_doc, indents\u001b[38;5;241m=\u001b[39m\u001b[38;5;241m0\u001b[39m)\n\u001b[0;32m    137\u001b[0m \u001b[38;5;28;01mdef\u001b[39;00m \u001b[38;5;21mmerge\u001b[39m(\n\u001b[0;32m    138\u001b[0m     left: DataFrame \u001b[38;5;241m|\u001b[39m Series,\n\u001b[0;32m    139\u001b[0m     right: DataFrame \u001b[38;5;241m|\u001b[39m Series,\n\u001b[0;32m    140\u001b[0m     how: MergeHow \u001b[38;5;241m=\u001b[39m \u001b[38;5;124m\"\u001b[39m\u001b[38;5;124minner\u001b[39m\u001b[38;5;124m\"\u001b[39m,\n\u001b[0;32m    141\u001b[0m     on: IndexLabel \u001b[38;5;241m|\u001b[39m AnyArrayLike \u001b[38;5;241m|\u001b[39m \u001b[38;5;28;01mNone\u001b[39;00m \u001b[38;5;241m=\u001b[39m \u001b[38;5;28;01mNone\u001b[39;00m,\n\u001b[0;32m    142\u001b[0m     left_on: IndexLabel \u001b[38;5;241m|\u001b[39m AnyArrayLike \u001b[38;5;241m|\u001b[39m \u001b[38;5;28;01mNone\u001b[39;00m \u001b[38;5;241m=\u001b[39m \u001b[38;5;28;01mNone\u001b[39;00m,\n\u001b[0;32m    143\u001b[0m     right_on: IndexLabel \u001b[38;5;241m|\u001b[39m AnyArrayLike \u001b[38;5;241m|\u001b[39m \u001b[38;5;28;01mNone\u001b[39;00m \u001b[38;5;241m=\u001b[39m \u001b[38;5;28;01mNone\u001b[39;00m,\n\u001b[0;32m    144\u001b[0m     left_index: \u001b[38;5;28mbool\u001b[39m \u001b[38;5;241m=\u001b[39m \u001b[38;5;28;01mFalse\u001b[39;00m,\n\u001b[0;32m    145\u001b[0m     right_index: \u001b[38;5;28mbool\u001b[39m \u001b[38;5;241m=\u001b[39m \u001b[38;5;28;01mFalse\u001b[39;00m,\n\u001b[0;32m    146\u001b[0m     sort: \u001b[38;5;28mbool\u001b[39m \u001b[38;5;241m=\u001b[39m \u001b[38;5;28;01mFalse\u001b[39;00m,\n\u001b[0;32m    147\u001b[0m     suffixes: Suffixes \u001b[38;5;241m=\u001b[39m (\u001b[38;5;124m\"\u001b[39m\u001b[38;5;124m_x\u001b[39m\u001b[38;5;124m\"\u001b[39m, \u001b[38;5;124m\"\u001b[39m\u001b[38;5;124m_y\u001b[39m\u001b[38;5;124m\"\u001b[39m),\n\u001b[1;32m--> 148\u001b[0m     copy: \u001b[38;5;28mbool\u001b[39m \u001b[38;5;241m|\u001b[39m \u001b[38;5;28;01mNone\u001b[39;00m \u001b[38;5;241m=\u001b[39m \u001b[38;5;28;01mNone\u001b[39;00m,\n\u001b[0;32m    149\u001b[0m     indicator: \u001b[38;5;28mstr\u001b[39m \u001b[38;5;241m|\u001b[39m \u001b[38;5;28mbool\u001b[39m \u001b[38;5;241m=\u001b[39m \u001b[38;5;28;01mFalse\u001b[39;00m,\n\u001b[0;32m    150\u001b[0m     validate: \u001b[38;5;28mstr\u001b[39m \u001b[38;5;241m|\u001b[39m \u001b[38;5;28;01mNone\u001b[39;00m \u001b[38;5;241m=\u001b[39m \u001b[38;5;28;01mNone\u001b[39;00m,\n\u001b[0;32m    151\u001b[0m ) \u001b[38;5;241m-\u001b[39m\u001b[38;5;241m>\u001b[39m DataFrame:\n\u001b[0;32m    152\u001b[0m     left_df \u001b[38;5;241m=\u001b[39m _validate_operand(left)\n\u001b[0;32m    153\u001b[0m     right_df \u001b[38;5;241m=\u001b[39m _validate_operand(right)\n",
      "File \u001b[1;32m~\\anaconda3\\Lib\\site-packages\\pandas\\core\\reshape\\merge.py:737\u001b[0m, in \u001b[0;36m__init__\u001b[1;34m(self, left, right, how, on, left_on, right_on, axis, left_index, right_index, sort, suffixes, indicator, validate)\u001b[0m\n\u001b[0;32m    734\u001b[0m right_join_keys: \u001b[38;5;28mlist\u001b[39m[ArrayLike]\n\u001b[0;32m    735\u001b[0m left_join_keys: \u001b[38;5;28mlist\u001b[39m[ArrayLike]\n\u001b[1;32m--> 737\u001b[0m \u001b[38;5;28;01mdef\u001b[39;00m \u001b[38;5;21m__init__\u001b[39m(\n\u001b[0;32m    738\u001b[0m     \u001b[38;5;28mself\u001b[39m,\n\u001b[0;32m    739\u001b[0m     left: DataFrame \u001b[38;5;241m|\u001b[39m Series,\n\u001b[0;32m    740\u001b[0m     right: DataFrame \u001b[38;5;241m|\u001b[39m Series,\n\u001b[0;32m    741\u001b[0m     how: JoinHow \u001b[38;5;241m|\u001b[39m Literal[\u001b[38;5;124m\"\u001b[39m\u001b[38;5;124masof\u001b[39m\u001b[38;5;124m\"\u001b[39m] \u001b[38;5;241m=\u001b[39m \u001b[38;5;124m\"\u001b[39m\u001b[38;5;124minner\u001b[39m\u001b[38;5;124m\"\u001b[39m,\n\u001b[0;32m    742\u001b[0m     on: IndexLabel \u001b[38;5;241m|\u001b[39m AnyArrayLike \u001b[38;5;241m|\u001b[39m \u001b[38;5;28;01mNone\u001b[39;00m \u001b[38;5;241m=\u001b[39m \u001b[38;5;28;01mNone\u001b[39;00m,\n\u001b[0;32m    743\u001b[0m     left_on: IndexLabel \u001b[38;5;241m|\u001b[39m AnyArrayLike \u001b[38;5;241m|\u001b[39m \u001b[38;5;28;01mNone\u001b[39;00m \u001b[38;5;241m=\u001b[39m \u001b[38;5;28;01mNone\u001b[39;00m,\n\u001b[0;32m    744\u001b[0m     right_on: IndexLabel \u001b[38;5;241m|\u001b[39m AnyArrayLike \u001b[38;5;241m|\u001b[39m \u001b[38;5;28;01mNone\u001b[39;00m \u001b[38;5;241m=\u001b[39m \u001b[38;5;28;01mNone\u001b[39;00m,\n\u001b[0;32m    745\u001b[0m     left_index: \u001b[38;5;28mbool\u001b[39m \u001b[38;5;241m=\u001b[39m \u001b[38;5;28;01mFalse\u001b[39;00m,\n\u001b[0;32m    746\u001b[0m     right_index: \u001b[38;5;28mbool\u001b[39m \u001b[38;5;241m=\u001b[39m \u001b[38;5;28;01mFalse\u001b[39;00m,\n\u001b[0;32m    747\u001b[0m     sort: \u001b[38;5;28mbool\u001b[39m \u001b[38;5;241m=\u001b[39m \u001b[38;5;28;01mTrue\u001b[39;00m,\n\u001b[0;32m    748\u001b[0m     suffixes: Suffixes \u001b[38;5;241m=\u001b[39m (\u001b[38;5;124m\"\u001b[39m\u001b[38;5;124m_x\u001b[39m\u001b[38;5;124m\"\u001b[39m, \u001b[38;5;124m\"\u001b[39m\u001b[38;5;124m_y\u001b[39m\u001b[38;5;124m\"\u001b[39m),\n\u001b[0;32m    749\u001b[0m     indicator: \u001b[38;5;28mstr\u001b[39m \u001b[38;5;241m|\u001b[39m \u001b[38;5;28mbool\u001b[39m \u001b[38;5;241m=\u001b[39m \u001b[38;5;28;01mFalse\u001b[39;00m,\n\u001b[0;32m    750\u001b[0m     validate: \u001b[38;5;28mstr\u001b[39m \u001b[38;5;241m|\u001b[39m \u001b[38;5;28;01mNone\u001b[39;00m \u001b[38;5;241m=\u001b[39m \u001b[38;5;28;01mNone\u001b[39;00m,\n\u001b[0;32m    751\u001b[0m ) \u001b[38;5;241m-\u001b[39m\u001b[38;5;241m>\u001b[39m \u001b[38;5;28;01mNone\u001b[39;00m:\n\u001b[0;32m    752\u001b[0m     _left \u001b[38;5;241m=\u001b[39m _validate_operand(left)\n\u001b[0;32m    753\u001b[0m     _right \u001b[38;5;241m=\u001b[39m _validate_operand(right)\n",
      "File \u001b[1;32m~\\anaconda3\\Lib\\site-packages\\pandas\\core\\reshape\\merge.py:1221\u001b[0m, in \u001b[0;36m_get_merge_keys\u001b[1;34m(self)\u001b[0m\n\u001b[0;32m   1192\u001b[0m @final\n\u001b[0;32m   1193\u001b[0m def _create_join_index(\n\u001b[0;32m   1194\u001b[0m     self,\n\u001b[1;32m   (...)\u001b[0m\n\u001b[0;32m   1198\u001b[0m     how: JoinHow = \"left\",\n\u001b[0;32m   1199\u001b[0m ) -> Index:\n\u001b[0;32m   1200\u001b[0m     \"\"\"\n\u001b[0;32m   1201\u001b[0m     Create a join index by rearranging one index to match another\n\u001b[0;32m   1202\u001b[0m \n\u001b[1;32m   (...)\u001b[0m\n\u001b[0;32m   1216\u001b[0m     Index\n\u001b[0;32m   1217\u001b[0m     \"\"\"\n\u001b[0;32m   1218\u001b[0m     if self.how in (how, \"outer\") and not isinstance(other_index, MultiIndex):\n\u001b[0;32m   1219\u001b[0m         # if final index requires values in other_index but not target\n\u001b[0;32m   1220\u001b[0m         # index, indexer may hold missing (-1) values, causing Index.take\n\u001b[1;32m-> 1221\u001b[0m         # to take the final value in target index. So, we set the last\n\u001b[0;32m   1222\u001b[0m         # element to be the desired fill value. We do not use allow_fill\n\u001b[0;32m   1223\u001b[0m         # and fill_value because it throws a ValueError on integer indices\n\u001b[0;32m   1224\u001b[0m         mask = indexer == -1\n\u001b[0;32m   1225\u001b[0m         if np.any(mask):\n",
      "File \u001b[1;32m~\\anaconda3\\Lib\\site-packages\\pandas\\core\\generic.py:1778\u001b[0m, in \u001b[0;36mNDFrame._get_label_or_level_values\u001b[1;34m(self, key, axis)\u001b[0m\n\u001b[0;32m   1776\u001b[0m     values \u001b[38;5;241m=\u001b[39m \u001b[38;5;28mself\u001b[39m\u001b[38;5;241m.\u001b[39maxes[axis]\u001b[38;5;241m.\u001b[39mget_level_values(key)\u001b[38;5;241m.\u001b[39m_values\n\u001b[0;32m   1777\u001b[0m \u001b[38;5;28;01melse\u001b[39;00m:\n\u001b[1;32m-> 1778\u001b[0m     \u001b[38;5;28;01mraise\u001b[39;00m \u001b[38;5;167;01mKeyError\u001b[39;00m(key)\n\u001b[0;32m   1780\u001b[0m \u001b[38;5;66;03m# Check for duplicates\u001b[39;00m\n\u001b[0;32m   1781\u001b[0m \u001b[38;5;28;01mif\u001b[39;00m values\u001b[38;5;241m.\u001b[39mndim \u001b[38;5;241m>\u001b[39m \u001b[38;5;241m1\u001b[39m:\n",
      "\u001b[1;31mKeyError\u001b[0m: 'recipe_id'"
     ]
    }
   ],
   "source": [
    "\"\"\"\n",
    "merged_data = pd.merge(recipes, reviews, on=\"recipe_id\")\n",
    "average_ratings = merged_data.groupby(\"year_added\")[\"rating\"].mean()\n",
    "lowest_rating_year = average_ratings.min()[0]\n",
    "print(lowest_rating_year)\n",
    "\"\"\"\n",
    "# Assuming the column names are \"recipe_id\" in both DataFrames\n",
    "recipes.columns = recipes.columns.str.lower()  # Convert column names to lowercase for consistency\n",
    "reviews.columns = reviews.columns.str.lower()\n",
    "\n",
    "merged_data = pd.merge(recipes, reviews, on=\"recipe_id\")\n",
    "average_ratings = merged_data.groupby(\"year_added\")[\"rating\"].mean()\n",
    "lowest_rating_year = average_ratings.min()[0]\n",
    "print(lowest_rating_year)"
   ]
  },
  {
   "cell_type": "markdown",
   "metadata": {},
   "source": [
    "### Сохранение таблиц `pd.DataFrame`"
   ]
  },
  {
   "cell_type": "markdown",
   "metadata": {},
   "source": [
    "6.1 Отсортируйте таблицу в порядке убывания величины столбца `name_word_count` и сохраните результаты выполнения заданий 3.1-3.3 в csv файл. "
   ]
  },
  {
   "cell_type": "code",
   "execution_count": 103,
   "metadata": {},
   "outputs": [
    {
     "name": "stdout",
     "output_type": "stream",
     "text": [
      "                                                    name      id  minutes  \\\n",
      "3323   Blue Cheese Meatloaf                          ...  402871       75   \n",
      "2676         Beef Stroganoff                  Betty Webb  332495       40   \n",
      "14401  If Give A Kid A Candy    They Always Come Back...  289263       45   \n",
      "15225  Kathy  4   Ma Po S Bean Curd W Pork  Zwt Ii   ...  173440       15   \n",
      "17223  Meal In A Bowl   Noodle Soup   For 1 Double Fo...   25190       11   \n",
      "...                                                  ...     ...      ...   \n",
      "11870                                           Gatorade  379407        6   \n",
      "13197                                           Halushki   46157       70   \n",
      "9696                                               Duros  520568       20   \n",
      "9685                                            Dulcitas  214987       10   \n",
      "4118                                          Burgeritos  339569       30   \n",
      "\n",
      "       contributor_id   submitted  n_steps  \\\n",
      "3323           144140  2009-12-08      3.0   \n",
      "2676           892963  2008-10-23      NaN   \n",
      "14401          488441  2008-02-29      7.0   \n",
      "15225          296809  2006-06-17      9.0   \n",
      "17223            5060  2002-04-14      4.0   \n",
      "...               ...         ...      ...   \n",
      "11870          415933  2009-06-28      NaN   \n",
      "13197           23102  2002-11-15     12.0   \n",
      "9696           331730  2015-01-13      4.0   \n",
      "9685           430188  2007-03-04      NaN   \n",
      "4118          1018770  2008-11-25      5.0   \n",
      "\n",
      "                                             description  n_ingredients  \\\n",
      "3323   o.k...all of you blue cheese lovers out there....            NaN   \n",
      "2676   tenderized beef round steak is cut into thin s...           12.0   \n",
      "14401  my neighbor annie is a fantastic fake out cook...            NaN   \n",
      "15225  my sister again & this time with what she desc...           13.0   \n",
      "17223  this sounded very good from the local newspape...            NaN   \n",
      "...                                                  ...            ...   \n",
      "11870                          from everyday cheapskate.            5.0   \n",
      "13197                         polish cabbage and noodles            7.0   \n",
      "9696                                       healthy snack            NaN   \n",
      "9685                              little mexican sweets!            5.0   \n",
      "4118                                          burgeritos           13.0   \n",
      "\n",
      "       description_length  name_word_count  \n",
      "3323                310.0               31  \n",
      "2676                428.0               21  \n",
      "14401               413.0               18  \n",
      "15225               270.0               18  \n",
      "17223                71.0               17  \n",
      "...                   ...              ...  \n",
      "11870                25.0                1  \n",
      "13197                26.0                1  \n",
      "9696                 13.0                1  \n",
      "9685                 22.0                1  \n",
      "4118                 10.0                1  \n",
      "\n",
      "[30000 rows x 10 columns]\n"
     ]
    }
   ],
   "source": [
    "\n",
    "# Добавьте в таблицу recipes столбец description_length, в котором хранится длина описания рецепта из столбца description.\n",
    "recipes['description_length'] = recipes['description'].str.len()\n",
    "\n",
    "# Измените название каждого рецепта в таблице recipes таким образом, чтобы каждое слово в названии начиналось с прописной буквы.\n",
    "recipes['name'] = recipes['name'].str.title()\n",
    "\n",
    "#Добавьте в таблицу recipes столбец name_word_count, в котором хранится количество слов из названии рецепта (считайте, что слова в названии разделяются только пробелами). Обратите внимание, что между словами может располагаться несколько пробелов подряд.\n",
    "new_recipes1 = recipes.assign(name_word_count=recipes['name'].str.split(' ').str.len())\n",
    "\n",
    "sorted_recipes = new_recipes1.sort_values(by='name_word_count', ascending=False)\n",
    "print(sorted_recipes)"
   ]
  },
  {
   "cell_type": "markdown",
   "metadata": {},
   "source": [
    "6.2 Воспользовавшись `pd.ExcelWriter`, cохраните результаты 5.1 и 5.2 в файл: на лист с названием `Рецепты с оценками` сохраните результаты выполнения 5.1; на лист с названием `Количество отзывов по рецептам` сохраните результаты выполнения 5.2."
   ]
  },
  {
   "cell_type": "code",
   "execution_count": 126,
   "metadata": {
    "scrolled": true
   },
   "outputs": [],
   "source": [
    "# 5.1\n",
    "merged_df = pd.merge(recipes, reviews, left_on='id', right_on='recipe_id')\n",
    "merged_df = merged_df[['id', 'name', 'user_id', 'rating']]\n",
    "merged_df = merged_df.dropna(subset=['rating'])\n",
    "\n",
    "# 5.2\n",
    "grouped_df = merged_df.groupby(['id', 'name']).agg({'rating': ['count', 'mean']}).reset_index()\n",
    "grouped_df.columns = ['recipe_id', 'name', 'review_count', 'rating_mean']\n",
    "\n",
    "# Saving to Excel\n",
    "with pd.ExcelWriter('output.xlsx') as writer:\n",
    "    merged_df.to_excel(writer, sheet_name='Рецепты с оценками', index=False)\n",
    "    grouped_df.to_excel(writer, sheet_name='Количество отзывов по рецептам', index=False)\n"
   ]
  },
  {
   "cell_type": "markdown",
   "metadata": {},
   "source": [
    "#### [версия 2]\n",
    "* Уточнены формулировки задач 1.1, 3.3, 4.2, 5.1, 5.2, 5.3"
   ]
  }
 ],
 "metadata": {
  "kernelspec": {
   "display_name": "Python 3 (ipykernel)",
   "language": "python",
   "name": "python3"
  },
  "language_info": {
   "codemirror_mode": {
    "name": "ipython",
    "version": 3
   },
   "file_extension": ".py",
   "mimetype": "text/x-python",
   "name": "python",
   "nbconvert_exporter": "python",
   "pygments_lexer": "ipython3",
   "version": "3.11.5"
  }
 },
 "nbformat": 4,
 "nbformat_minor": 4
}
